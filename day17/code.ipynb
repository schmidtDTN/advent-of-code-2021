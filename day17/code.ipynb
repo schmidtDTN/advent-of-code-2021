{
 "cells": [
  {
   "cell_type": "code",
   "execution_count": 70,
   "metadata": {},
   "outputs": [],
   "source": [
    "# Test an initial velocity\n",
    "def test_starting_velocity(xMin, xMax, yMin, yMax, Vx0, Vy0):\n",
    "    # Set up acceleration and initial location variables\n",
    "    Ax = -1\n",
    "    Ay = -1\n",
    "    Lx = 0\n",
    "    Ly = 0\n",
    "    # Track if we overshot the target, the amount of time steps taken, and the max Y position reached this run\n",
    "    overshot = False\n",
    "    timeStep = 0\n",
    "    maxY = 0\n",
    "    # As long as we haven't missed the target, we keep going\n",
    "    while overshot == False:\n",
    "        # Calculate the new velocity (Vx minimum of 0)\n",
    "        Vx = Vx0 + (Ax * timeStep)\n",
    "        if Vx < 0:\n",
    "            Vx = 0\n",
    "        Vy = Vy0 + (Ay * timeStep)\n",
    "        # Calculate the new location\n",
    "        Lx = Lx + Vx\n",
    "        Ly = Ly + Vy\n",
    "        # If we see a new record high Y, track it\n",
    "        if Ly > maxY:\n",
    "            maxY = Ly\n",
    "        # If our current location is in the target area, this is a successful run\n",
    "        # Return the highest Y position reached this run as well\n",
    "        if Lx >= xMin and Lx <= xMax and Ly >= yMin and Ly <= yMax:\n",
    "            return (maxY, True)\n",
    "        # If we've gone too far right, we missed\n",
    "        if Lx > xMax:\n",
    "            overshot = True\n",
    "        # If we've gone too low, we've missed\n",
    "        if Ly < yMin:\n",
    "            overshot = True\n",
    "        # Increment the time step\n",
    "        timeStep += 1\n",
    "    # If we overshot the target area, we don't want to track the max Y position reached\n",
    "    return (0, False)"
   ]
  },
  {
   "cell_type": "code",
   "execution_count": 71,
   "metadata": {},
   "outputs": [],
   "source": [
    "# Solve Part 1\n",
    "def solve_part1(xMin, xMax, yMin, yMax):\n",
    "    # Track the highest Y position reached and the number of successful trajectories\n",
    "    maxMaxY = 0\n",
    "    successCount = 0\n",
    "    # Iterate through every X and Y initial velocity in a reasonable range\n",
    "    for Vx0 in range(0, xMax + 1):\n",
    "        for Vy0 in range(yMin - 1, -yMin + 1):\n",
    "            # Find out if this initial velocity reaches the target and what the higest point reached is\n",
    "            (maxY, success) = test_starting_velocity(xMin, xMax, yMin, yMax, Vx0, Vy0)\n",
    "            # If it reaches the target, increment the number of successes\n",
    "            if success:\n",
    "                successCount += 1\n",
    "            # If the highest point reached this velocity is a new record, track it\n",
    "            if maxY > maxMaxY:\n",
    "                maxMaxY = maxY\n",
    "    # Return the Y position and successes\n",
    "    return (maxMaxY, successCount)"
   ]
  },
  {
   "cell_type": "code",
   "execution_count": 72,
   "metadata": {},
   "outputs": [
    {
     "name": "stdout",
     "output_type": "stream",
     "text": [
      "Part 1 solution: The highest y position reachable while on target is 10296\n",
      "Part 2 solution: There are 2371 distinct initial velocity values that reach the target\n"
     ]
    }
   ],
   "source": [
    "# Read in target area (I slightly modified the input to make it a bit simpler)\n",
    "file = open('puzzleinput.txt')\n",
    "input = file.readline()\n",
    "xRange = input.split(',')[0]\n",
    "yRange = input.split(',')[1]\n",
    "xMin = int(xRange.split('..')[0])\n",
    "xMax = int(xRange.split('..')[1])\n",
    "yMin = int(yRange.split('..')[0])\n",
    "yMax = int(yRange.split('..')[1])\n",
    "\n",
    "# Get the solutions to each part\n",
    "(part1Solution, part2Solution) = solve_part1(xMin, xMax, yMin, yMax)\n",
    "\n",
    "# Print solution\n",
    "print(\"Part 1 solution: The highest y position reachable while on target is \" + str(part1Solution))\n",
    "print(\"Part 2 solution: There are \" + str(part2Solution) + \" distinct initial velocity values that reach the target\")"
   ]
  }
 ],
 "metadata": {
  "interpreter": {
   "hash": "63fd5069d213b44bf678585dea6b12cceca9941eaf7f819626cde1f2670de90d"
  },
  "kernelspec": {
   "display_name": "Python 3.9.1 64-bit",
   "language": "python",
   "name": "python3"
  },
  "language_info": {
   "codemirror_mode": {
    "name": "ipython",
    "version": 3
   },
   "file_extension": ".py",
   "mimetype": "text/x-python",
   "name": "python",
   "nbconvert_exporter": "python",
   "pygments_lexer": "ipython3",
   "version": "3.9.1"
  },
  "metadata": {
   "interpreter": {
    "hash": "63fd5069d213b44bf678585dea6b12cceca9941eaf7f819626cde1f2670de90d"
   }
  },
  "orig_nbformat": 2
 },
 "nbformat": 4,
 "nbformat_minor": 2
}
