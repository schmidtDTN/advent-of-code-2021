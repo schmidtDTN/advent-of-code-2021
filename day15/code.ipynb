{
 "cells": [
  {
   "cell_type": "code",
   "execution_count": 36,
   "metadata": {},
   "outputs": [],
   "source": [
    "# Node class to track each node and its risk etc.\n",
    "import math\n",
    "class Node:\n",
    "    def __init__(self, risk, xCoord, yCoord):\n",
    "        self.risk = risk\n",
    "        self.xCoord = xCoord\n",
    "        self.yCoord = yCoord\n",
    "        self.visited = False\n",
    "        self.neighbors = []\n",
    "        if xCoord == 0 and yCoord == 0:\n",
    "            self.totalRisk = 0\n",
    "        else:\n",
    "            self.totalRisk = math.inf\n",
    "    \n",
    "    def addNeighbor(self, neighbor):\n",
    "        self.neighbors.append(neighbor)\n",
    "    \n",
    "    def getCoordinates(self):\n",
    "        return (self.xCoord, self.yCoord)\n",
    "\n",
    "    def visit(self):\n",
    "        self.visited = True\n",
    "\n",
    "    def updateTotalRisk(self, newTotalRisk):\n",
    "        self.totalRisk = newTotalRisk"
   ]
  },
  {
   "cell_type": "code",
   "execution_count": 37,
   "metadata": {},
   "outputs": [],
   "source": [
    "# For each point on the map, create an instance of the Node class\n",
    "def build_nodes(map):\n",
    "    # Create a dictionary of nodes - key: (xCoordinate, yCoordinate), value: Node\n",
    "    nodes = {}\n",
    "    # Iterate through the map\n",
    "    for rowIdx, row in enumerate(map):\n",
    "        for colIdx, risk in enumerate(row):\n",
    "            # For each point on the map, create a new Node\n",
    "            newNode = Node(risk, rowIdx, colIdx)\n",
    "            nodes.update({(rowIdx, colIdx): newNode})\n",
    "    # For each node, create its list of neighbors\n",
    "    for node in nodes.values():\n",
    "        (xCoord, yCoord) = node.getCoordinates()\n",
    "        up = nodes.get((xCoord - 1, yCoord))\n",
    "        down = nodes.get((xCoord + 1, yCoord))\n",
    "        left = nodes.get((xCoord, yCoord - 1))\n",
    "        right = nodes.get((xCoord, yCoord + 1))\n",
    "        if up:\n",
    "            node.addNeighbor(up)\n",
    "        if down:\n",
    "            node.addNeighbor(down)\n",
    "        if left:\n",
    "            node.addNeighbor(left)\n",
    "        if right:\n",
    "            node.addNeighbor(right)\n",
    "    return nodes\n"
   ]
  },
  {
   "cell_type": "code",
   "execution_count": 38,
   "metadata": {},
   "outputs": [],
   "source": [
    "import heapq\n",
    "# Solve part 1 by using Djikstra's\n",
    "def solve(nodes):\n",
    "    # Build a priority queue and initialize it with the node in (0,0)\n",
    "    priorityQueue = []\n",
    "    startingNode = nodes.get((0,0))\n",
    "    heapq.heappush(priorityQueue, (startingNode.totalRisk, startingNode.getCoordinates(), startingNode))\n",
    "\n",
    "    # While there's something in the priority queue, keep iterating\n",
    "    while priorityQueue:\n",
    "        # Pop the item with the lowest total risk (break ties based on coordinates - doesn't matter, but need a tiebreaker so it doesn't crash)\n",
    "        _, _, currentNode = heapq.heappop(priorityQueue)\n",
    "        # Marke the current node visited\n",
    "        currentNode.visit()\n",
    "\n",
    "        # Iterate through all of the current node's neighbors\n",
    "        for neighbor in currentNode.neighbors:\n",
    "            # Skip if already visited\n",
    "            if neighbor.visited: continue\n",
    "\n",
    "            # Otherwise, update the neighbor's total risk if we've found a better path than exists\n",
    "            newTotalRisk = neighbor.risk + currentNode.totalRisk\n",
    "            if newTotalRisk < neighbor.totalRisk:\n",
    "                neighbor.updateTotalRisk(newTotalRisk)\n",
    "                # Adding the coordinates in here to add another layer of comparison to avoid bug\n",
    "                heapq.heappush(priorityQueue, (newTotalRisk, neighbor.getCoordinates(), neighbor))"
   ]
  },
  {
   "cell_type": "code",
   "execution_count": 39,
   "metadata": {},
   "outputs": [],
   "source": [
    "# Given the map from part 1, build out the new map for part 2 (5 times wider, 5 times taller, each step out increments all values)\n",
    "def build_part_2_map(map):\n",
    "    # Get the new map's size\n",
    "    mapSize = len(map)\n",
    "    newMapSize = mapSize * 5\n",
    "    # Get an array ready for the new map\n",
    "    newMap = [ [0]*newMapSize for _ in range(newMapSize)] \n",
    "    # Iterate through every possible point in the new map array\n",
    "    for xCoord, _ in enumerate(newMap):\n",
    "        for yCoord, _ in enumerate(newMap):\n",
    "            # Grab the value of the equivalent location in the old map\n",
    "            oldValue = map[xCoord % mapSize][yCoord % mapSize]\n",
    "            # Update it (increment by 1 for every step down and every step right)\n",
    "            newValue = oldValue + (1 * int(xCoord / mapSize)) + (1 * int(yCoord / mapSize))\n",
    "            # If the new value is greater than 9, we decrement it down below 9 again\n",
    "            if newValue > 9:\n",
    "                newValue = newValue - 9\n",
    "            # Update the new map\n",
    "            newMap[xCoord][yCoord] = newValue    \n",
    "\n",
    "    return newMap\n"
   ]
  },
  {
   "cell_type": "code",
   "execution_count": 40,
   "metadata": {},
   "outputs": [
    {
     "name": "stdout",
     "output_type": "stream",
     "text": [
      "Part 1 solution: The total risk for the map in Part 1 is 447\n",
      "Part 2 solution: The total risk for the map in Part 2 is 2825\n"
     ]
    }
   ],
   "source": [
    "# Read in the risk map\n",
    "file = open('puzzleinput.txt')\n",
    "map = [[int(x) for x in line.strip()] for line in file]\n",
    "# Get the size of the map to retrieve the end node\n",
    "mapSize = len(map) - 1\n",
    "# Build out nodes for each point on the map\n",
    "nodes = build_nodes(map)\n",
    "\n",
    "# Solve part 1 (calculate total risk for each node using Djikstra's)\n",
    "solve(nodes)\n",
    "# Get the end node and retrieve its total risk\n",
    "targetNode = nodes.get((mapSize, mapSize))\n",
    "part1Solution = targetNode.totalRisk\n",
    "\n",
    "# Build the larger map required for part 2\n",
    "newMap = build_part_2_map(map)\n",
    "# Build a new set of nodes based on the new map\n",
    "nodes = build_nodes(newMap)\n",
    "# Get the new map size for end node retrieval\n",
    "mapSize = len(newMap) - 1\n",
    "# Solve part 2\n",
    "solve(nodes)\n",
    "# Get the end node and retrieve its total risk\n",
    "targetNode = nodes.get((mapSize, mapSize))\n",
    "part2Solution = targetNode.totalRisk\n",
    "\n",
    "# Print solution\n",
    "print(\"Part 1 solution: The total risk for the map in Part 1 is \" + str(part1Solution))\n",
    "print(\"Part 2 solution: The total risk for the map in Part 2 is \" + str(part2Solution))"
   ]
  }
 ],
 "metadata": {
  "interpreter": {
   "hash": "63fd5069d213b44bf678585dea6b12cceca9941eaf7f819626cde1f2670de90d"
  },
  "kernelspec": {
   "display_name": "Python 3.9.1 64-bit",
   "language": "python",
   "name": "python3"
  },
  "language_info": {
   "codemirror_mode": {
    "name": "ipython",
    "version": 3
   },
   "file_extension": ".py",
   "mimetype": "text/x-python",
   "name": "python",
   "nbconvert_exporter": "python",
   "pygments_lexer": "ipython3",
   "version": "3.9.1"
  },
  "metadata": {
   "interpreter": {
    "hash": "63fd5069d213b44bf678585dea6b12cceca9941eaf7f819626cde1f2670de90d"
   }
  },
  "orig_nbformat": 2
 },
 "nbformat": 4,
 "nbformat_minor": 2
}
