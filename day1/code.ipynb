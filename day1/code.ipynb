{
 "cells": [
  {
   "cell_type": "code",
   "execution_count": 2,
   "metadata": {},
   "outputs": [],
   "source": [
    "# Part 1\r\n",
    "def count_increases(depthReadings):\r\n",
    "    increases = 0\r\n",
    "    priorDepth = depthReadings[0]\r\n",
    "    for newDepth in depthReadings:\r\n",
    "        if int(newDepth) > int(priorDepth):\r\n",
    "            increases += 1\r\n",
    "        priorDepth = newDepth\r\n",
    "    return increases"
   ]
  },
  {
   "cell_type": "code",
   "execution_count": 8,
   "metadata": {},
   "outputs": [],
   "source": [
    "# Part 2\r\n",
    "def count_sum_increases(depthReadings):\r\n",
    "    sum_increases = 0\r\n",
    "    depthTriples = [0, 0, 0]\r\n",
    "    priorSum = int(depthReadings[0] + depthReadings[1] + depthReadings[2])\r\n",
    "    for index, depth in enumerate(depthReadings):\r\n",
    "        depthTriples[index % 3] = int(depth)\r\n",
    "        # ignore the first 2 iterations because we don't have a complete sum\r\n",
    "        if index > 1:\r\n",
    "            currentSum = sum(depthTriples)\r\n",
    "            if currentSum > priorSum:\r\n",
    "                sum_increases += 1\r\n",
    "            priorSum = currentSum\r\n",
    "    return sum_increases\r\n",
    "        "
   ]
  },
  {
   "cell_type": "code",
   "execution_count": 9,
   "metadata": {},
   "outputs": [
    {
     "name": "stdout",
     "output_type": "stream",
     "text": [
      "Part 1 solution: There are 1226 depth increases\n",
      "Part 2 solution: There are 1252 sum increases\n"
     ]
    }
   ],
   "source": [
    "file = open('puzzleinput.txt')\r\n",
    "input = file.read()\r\n",
    "depthReadings = input.splitlines()\r\n",
    "\r\n",
    "print(\"Part 1 solution: There are \" + str(count_increases(depthReadings)) + \" depth increases\")\r\n",
    "print(\"Part 2 solution: There are \" + str(count_sum_increases(depthReadings)) + \" sum increases\")\r\n"
   ]
  }
 ],
 "metadata": {
  "kernelspec": {
   "display_name": "Python 3.9.1 64-bit",
   "name": "python391jvsc74a57bd063fd5069d213b44bf678585dea6b12cceca9941eaf7f819626cde1f2670de90d"
  },
  "language_info": {
   "codemirror_mode": {
    "name": "ipython",
    "version": 3
   },
   "file_extension": ".py",
   "mimetype": "text/x-python",
   "name": "python",
   "nbconvert_exporter": "python",
   "pygments_lexer": "ipython3",
   "version": "3.9.1"
  },
  "metadata": {
   "interpreter": {
    "hash": "63fd5069d213b44bf678585dea6b12cceca9941eaf7f819626cde1f2670de90d"
   }
  },
  "orig_nbformat": 2
 },
 "nbformat": 4,
 "nbformat_minor": 2
}