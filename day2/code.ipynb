{
 "cells": [
  {
   "cell_type": "code",
   "execution_count": 16,
   "metadata": {},
   "outputs": [],
   "source": [
    "# Part 1\r\n",
    "def find_new_position(movements):\r\n",
    "    currentX = 0\r\n",
    "    currentY = 0\r\n",
    "    for move in movements:\r\n",
    "        vector = move.split()\r\n",
    "        direction = vector[0]\r\n",
    "        magnitude = int(vector[1])\r\n",
    "        if direction == 'forward':\r\n",
    "            currentX += magnitude\r\n",
    "        elif direction == 'up':\r\n",
    "            currentY -= magnitude\r\n",
    "        elif direction == 'down':\r\n",
    "            currentY += magnitude\r\n",
    "    return currentX * currentY"
   ]
  },
  {
   "cell_type": "code",
   "execution_count": 17,
   "metadata": {},
   "outputs": [],
   "source": [
    "# Part 2\r\n",
    "def find_new_position_aim(movements):\r\n",
    "    depth = 0\r\n",
    "    position = 0\r\n",
    "    aim = 0\r\n",
    "    for move in movements:\r\n",
    "        vector = move.split()\r\n",
    "        direction = vector[0]\r\n",
    "        magnitude = int(vector[1])\r\n",
    "        if direction == 'forward':\r\n",
    "            position += magnitude\r\n",
    "            depth += magnitude * aim\r\n",
    "        elif direction == 'up':\r\n",
    "            aim -= magnitude\r\n",
    "        elif direction == 'down':\r\n",
    "            aim += magnitude\r\n",
    "    return depth * position"
   ]
  },
  {
   "cell_type": "code",
   "execution_count": 18,
   "metadata": {},
   "outputs": [
    {
     "name": "stdout",
     "output_type": "stream",
     "text": [
      "Part 1 solution: 1654760\n",
      "Part 2 solution: 1956047400\n"
     ]
    }
   ],
   "source": [
    "file = open('puzzleinput.txt')\r\n",
    "input = file.read()\r\n",
    "movements = input.splitlines()\r\n",
    "\r\n",
    "print(\"Part 1 solution: \" + str(find_new_position(movements)))\r\n",
    "print(\"Part 2 solution: \" + str(find_new_position_aim(movements)))\r\n"
   ]
  }
 ],
 "metadata": {
  "kernelspec": {
   "display_name": "Python 3.9.1 64-bit",
   "name": "python391jvsc74a57bd063fd5069d213b44bf678585dea6b12cceca9941eaf7f819626cde1f2670de90d"
  },
  "language_info": {
   "codemirror_mode": {
    "name": "ipython",
    "version": 3
   },
   "file_extension": ".py",
   "mimetype": "text/x-python",
   "name": "python",
   "nbconvert_exporter": "python",
   "pygments_lexer": "ipython3",
   "version": "3.9.1"
  },
  "metadata": {
   "interpreter": {
    "hash": "63fd5069d213b44bf678585dea6b12cceca9941eaf7f819626cde1f2670de90d"
   }
  },
  "orig_nbformat": 2
 },
 "nbformat": 4,
 "nbformat_minor": 2
}