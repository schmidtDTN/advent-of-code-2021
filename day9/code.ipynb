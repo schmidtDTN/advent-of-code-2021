{
 "cells": [
  {
   "cell_type": "code",
   "execution_count": 66,
   "metadata": {},
   "outputs": [],
   "source": [
    "# Solve part 1 by iterating through each point and just checking the neighboring points\n",
    "def solve_part1(map):\n",
    "    lowPoints = []\n",
    "    riskLevelSum = 0\n",
    "    mapHeight = len(map)\n",
    "    mapWidth = len(map[0])\n",
    "    # Iterate through each space in the map\n",
    "    for currX in range(0, mapHeight):\n",
    "        for currY in range(0, mapWidth):\n",
    "            # Get the depth of the current spot\n",
    "            currentPoint = map[currX][currY]\n",
    "            # Very rudimentary \"check neighboring cells if they exist\" code\n",
    "            if currX - 1 >= 0:\n",
    "                upPoint = map[currX - 1][currY]\n",
    "            else:\n",
    "                upPoint = 9\n",
    "            if currX + 1 <= mapHeight - 1:\n",
    "                downPoint = map[currX + 1][currY]\n",
    "            else:\n",
    "                downPoint = 9\n",
    "            if currY - 1 >= 0:\n",
    "                leftPoint = map[currX][currY - 1]\n",
    "            else:\n",
    "                leftPoint = 9\n",
    "            if currY + 1 <= mapWidth - 1:\n",
    "                rightPoint = map[currX][currY + 1]\n",
    "            else:\n",
    "                rightPoint = 9            \n",
    "            # If the current point has the smallest value, then calculate the risk value and add it to the sum\n",
    "            if upPoint > currentPoint and downPoint > currentPoint and leftPoint > currentPoint and rightPoint > currentPoint:\n",
    "                riskLevel = currentPoint + 1\n",
    "                riskLevelSum += riskLevel\n",
    "                # Also track the location of the lowest points\n",
    "                lowPoints.append((currX, currY))\n",
    "    return (riskLevelSum, lowPoints)\n"
   ]
  },
  {
   "cell_type": "code",
   "execution_count": 67,
   "metadata": {},
   "outputs": [],
   "source": [
    "# Find the basins for a given point (recursive)\n",
    "def find_basin(map, pointX, pointY, existingBasin):\n",
    "    mapHeight = len(map)\n",
    "    mapWidth = len(map[0])\n",
    "    # base case - if the current spot is either off the map or a 9, it's not part of the basin and we want to stop here\n",
    "    if pointX < 0 or pointX > mapHeight - 1 or pointY < 0 or pointY > mapWidth - 1 or map[pointX][pointY] == 9 :\n",
    "        return existingBasin\n",
    "    # Add the current point to the basin\n",
    "    existingBasin.add((pointX, pointY))\n",
    "    # For each neighboring cell, if it's not already marked as being in the basin, explore it\n",
    "    if(pointX - 1, pointY) not in existingBasin:\n",
    "        upBasin = find_basin(map, pointX - 1, pointY, existingBasin)\n",
    "    else:\n",
    "        upBasin = set()\n",
    "    if(pointX + 1, pointY) not in existingBasin:\n",
    "        downBasin = find_basin(map, pointX + 1, pointY, existingBasin)\n",
    "    else:\n",
    "        downBasin = set()\n",
    "    if(pointX, pointY - 1) not in existingBasin:\n",
    "        leftBasin = find_basin(map, pointX, pointY - 1, existingBasin)\n",
    "    else:\n",
    "        leftBasin = set()\n",
    "    if(pointX - 1, pointY + 1) not in existingBasin:\n",
    "        rightBasin = find_basin(map, pointX, pointY + 1, existingBasin)\n",
    "    else:\n",
    "        rightBasin = set()\n",
    "    # Combine the existing basin with the new basins found and return all that\n",
    "    totalBasin = set.union(existingBasin, upBasin, downBasin, leftBasin, rightBasin)\n",
    "    return totalBasin"
   ]
  },
  {
   "cell_type": "code",
   "execution_count": 68,
   "metadata": {},
   "outputs": [],
   "source": [
    "# Solve part 2 by getting the size of each low point's basin\n",
    "def solve_part2(map, lowPoints):\n",
    "    basinSizes = []\n",
    "    # Iterate through all the low points in the map\n",
    "    for lowPoint in lowPoints:\n",
    "        (pointX, pointY) = lowPoint\n",
    "        # Find the basin for that low point\n",
    "        pointBasin = find_basin(map, pointX, pointY, set())\n",
    "        # Get the basin's size and track it\n",
    "        basinSizes.append(len(pointBasin))\n",
    "    # Very lazy way to get the three largest basin's sizes\n",
    "    basinSizes.sort()\n",
    "    top3Basins = 1\n",
    "    for _ in range(0, 3):\n",
    "        top3Basins = top3Basins * basinSizes.pop()\n",
    "    return top3Basins "
   ]
  },
  {
   "cell_type": "code",
   "execution_count": 69,
   "metadata": {},
   "outputs": [
    {
     "name": "stdout",
     "output_type": "stream",
     "text": [
      "Part 1 solution: The risk level sum is 514\n",
      "Part 2 solution: The three largest basin sizes multiplied together make 1103130\n"
     ]
    }
   ],
   "source": [
    "# Read in depth map\n",
    "file = open('puzzleinput.txt')\n",
    "map = [[int(x) for x in line.strip()] for line in file]\n",
    "\n",
    "# Get the solutions to each part\n",
    "(part1Solution, lowPoints) = solve_part1(map)\n",
    "part2Solution = solve_part2(map, lowPoints)\n",
    "\n",
    "# Print solution\n",
    "print(\"Part 1 solution: The risk level sum is \" + str(part1Solution))\n",
    "print(\"Part 2 solution: The three largest basin sizes multiplied together make \" + str(part2Solution))"
   ]
  }
 ],
 "metadata": {
  "interpreter": {
   "hash": "63fd5069d213b44bf678585dea6b12cceca9941eaf7f819626cde1f2670de90d"
  },
  "kernelspec": {
   "display_name": "Python 3.9.1 64-bit",
   "language": "python",
   "name": "python3"
  },
  "language_info": {
   "codemirror_mode": {
    "name": "ipython",
    "version": 3
   },
   "file_extension": ".py",
   "mimetype": "text/x-python",
   "name": "python",
   "nbconvert_exporter": "python",
   "pygments_lexer": "ipython3",
   "version": "3.9.1"
  },
  "metadata": {
   "interpreter": {
    "hash": "63fd5069d213b44bf678585dea6b12cceca9941eaf7f819626cde1f2670de90d"
   }
  },
  "orig_nbformat": 2
 },
 "nbformat": 4,
 "nbformat_minor": 2
}
