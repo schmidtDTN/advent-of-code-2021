{
 "cells": [
  {
   "cell_type": "code",
   "execution_count": 101,
   "metadata": {},
   "outputs": [],
   "source": [
    "def roll(lastRoll):\n",
    "    rolled = [(lastRoll + 1) % 100, (lastRoll + 2) % 100, (lastRoll + 3) % 100]\n",
    "    for idx, item in enumerate(rolled):\n",
    "        if item == 0:\n",
    "            rolled[idx] = 100\n",
    "    return rolled"
   ]
  },
  {
   "cell_type": "code",
   "execution_count": 102,
   "metadata": {},
   "outputs": [],
   "source": [
    "# Solve part 1 by XYZ\n",
    "def solve_part1(positions, scores):\n",
    "    lastRoll = 0\n",
    "    totalRolls = 0\n",
    "    maxScore = 0\n",
    "    while maxScore < 1000:\n",
    "        playerTurn = totalRolls % 2\n",
    "        playerRoll = roll(lastRoll)\n",
    "        lastRoll = playerRoll[2]\n",
    "        playerMove = sum(playerRoll)\n",
    "        positions[playerTurn] = (positions[playerTurn] + playerMove) % 10\n",
    "        if positions[playerTurn] == 0:\n",
    "            positions[playerTurn] = 10\n",
    "        scores[playerTurn] = scores[playerTurn] + positions[playerTurn]\n",
    "        maxScore = max(scores)\n",
    "        totalRolls += 3\n",
    "\n",
    "    losingScore = min(scores)\n",
    "    return losingScore * totalRolls"
   ]
  },
  {
   "cell_type": "code",
   "execution_count": 103,
   "metadata": {},
   "outputs": [],
   "source": [
    "# Solve part 2 by XYZ\n",
    "def solve_part2():\n",
    "    print('test')"
   ]
  },
  {
   "cell_type": "code",
   "execution_count": 104,
   "metadata": {},
   "outputs": [
    {
     "name": "stdout",
     "output_type": "stream",
     "text": [
      "[3, 10]\n",
      "713328\n"
     ]
    }
   ],
   "source": [
    "# Read in XYZ\n",
    "file = open('puzzleinput.txt')\n",
    "player1 = int(file.readline().strip().split(': ')[1])\n",
    "player2 = int(file.readline().strip().split(': ')[1])\n",
    "initialPositions = [player1, player2]\n",
    "scores = [0, 0]\n",
    "\n",
    "# Solve parts 1 and 2\n",
    "part1Solution = solve_part1(initialPositions, scores)\n",
    "#part2Solution = solve_part2(coordinates, puzzleWidth, puzzleHeight, instructions)\n",
    "print(part1Solution)\n",
    "\n",
    "# Print solution\n",
    "#print(\"Part 1 solution: There are \" + str(part1Solution) + \" dots visible after one fold\")\n",
    "#print(\"Part 2 solution: The code is displayed below: \")"
   ]
  }
 ],
 "metadata": {
  "interpreter": {
   "hash": "63fd5069d213b44bf678585dea6b12cceca9941eaf7f819626cde1f2670de90d"
  },
  "kernelspec": {
   "display_name": "Python 3.9.1 64-bit",
   "language": "python",
   "name": "python3"
  },
  "language_info": {
   "codemirror_mode": {
    "name": "ipython",
    "version": 3
   },
   "file_extension": ".py",
   "mimetype": "text/x-python",
   "name": "python",
   "nbconvert_exporter": "python",
   "pygments_lexer": "ipython3",
   "version": "3.9.1"
  },
  "metadata": {
   "interpreter": {
    "hash": "63fd5069d213b44bf678585dea6b12cceca9941eaf7f819626cde1f2670de90d"
   }
  },
  "orig_nbformat": 2
 },
 "nbformat": 4,
 "nbformat_minor": 2
}
