{
 "cells": [
  {
   "cell_type": "code",
   "execution_count": 229,
   "metadata": {},
   "outputs": [],
   "source": [
    "# Fold along the X axis\n",
    "from numpy import transpose\n",
    "def fold_x(fullSheet, foldColumn):\n",
    "    # Rotate the sheet and fold along the Y axis because that's easier :)\n",
    "    transposedSheet = transpose(fullSheet)\n",
    "    transposedSheet = fold_y(transposedSheet, foldColumn)\n",
    "    # Unrotate the sheet\n",
    "    fullSheet = transpose(transposedSheet)\n",
    "    return fullSheet\n"
   ]
  },
  {
   "cell_type": "code",
   "execution_count": 230,
   "metadata": {},
   "outputs": [],
   "source": [
    "# Fold along the Y axis\n",
    "def fold_y(fullSheet, foldRow):\n",
    "    # Split the sheet into two arrays for above and below the fold line\n",
    "    aboveFold = [row for idx, row in enumerate(fullSheet) if idx < foldRow]\n",
    "    belowFold = [row for idx, row in enumerate(fullSheet) if idx > foldRow]\n",
    "    # Iterate through each  row below the fold\n",
    "    for idx, row in enumerate(belowFold):\n",
    "        # Grab the below-fold row and then the row the same distance above the fold\n",
    "        currBottomRow = row\n",
    "        currTopRow = aboveFold[len(aboveFold) - idx - 1]\n",
    "        # \"Fold\" - for every dot on the below-fold row, add it to the above-fold row\n",
    "        for idx, point in enumerate(currBottomRow):\n",
    "            if point == 1:\n",
    "                currTopRow[idx] = 1\n",
    "    \n",
    "    return aboveFold\n"
   ]
  },
  {
   "cell_type": "code",
   "execution_count": 231,
   "metadata": {},
   "outputs": [],
   "source": [
    "# Solve part 1 by folding once\n",
    "def solve_part1(coordinates, puzzleWidth, puzzleHeight, instructions):\n",
    "    # Set up array for the sheet\n",
    "    fullSheet = [ [0]*puzzleWidth for i in range(puzzleHeight)]\n",
    "    # Mark all of the initial coordinates on the sheet\n",
    "    for markCoordinate in coordinates:\n",
    "        xCoord = markCoordinate[0]\n",
    "        yCoord = markCoordinate[1]\n",
    "        fullSheet[yCoord][xCoord] = 1\n",
    "\n",
    "    # This is just a single fold, so find the rules for the first fold\n",
    "    axis = instructions[0].split('=')[0].split(' ')[2]\n",
    "    value = int(instructions[0].split('=')[1])\n",
    "    \n",
    "    # Fold along the correct axis\n",
    "    if axis == 'x':\n",
    "        fullSheet = fold_x(fullSheet, value)\n",
    "    else:\n",
    "        fullSheet = fold_y(fullSheet, value)\n",
    "\n",
    "    # Count the dots visible now\n",
    "    totalDots = 0\n",
    "    for row in fullSheet:\n",
    "        for point in row:\n",
    "            if point == 1:\n",
    "                totalDots += 1\n",
    "    return totalDots"
   ]
  },
  {
   "cell_type": "code",
   "execution_count": 232,
   "metadata": {},
   "outputs": [],
   "source": [
    "# Solve part 2 by XYZ by folding along all the instructions\n",
    "def solve_part2(coordinates, puzzleWidth, puzzleHeight, instructions):\n",
    "    # Set up array for the sheet\n",
    "    fullSheet = [ [0]*puzzleWidth for i in range(puzzleHeight)]\n",
    "    # Mark all of the initial coordinates on the sheet\n",
    "    for markCoordinate in coordinates:\n",
    "        xCoord = markCoordinate[0]\n",
    "        yCoord = markCoordinate[1]\n",
    "        fullSheet[yCoord][xCoord] = 1\n",
    "\n",
    "    # Follow all of the instructions this time\n",
    "    for fold in instructions:\n",
    "        # Get the axis and row/column for the fold\n",
    "        axis = fold.split('=')[0].split(' ')[2]\n",
    "        value = int(fold.split('=')[1])\n",
    "        # Fold along the correct axis\n",
    "        if axis == 'x':\n",
    "            fullSheet = fold_x(fullSheet, value)\n",
    "        else:\n",
    "            fullSheet = fold_y(fullSheet, value)\n",
    "\n",
    "    return fullSheet"
   ]
  },
  {
   "cell_type": "code",
   "execution_count": 233,
   "metadata": {},
   "outputs": [
    {
     "name": "stdout",
     "output_type": "stream",
     "text": [
      "Part 1 solution: There are 610 dots visible after one fold\n",
      "Part 2 solution: The code is displayed below: \n",
      "###..####.####...##.#..#.###..####.####.\n",
      "#..#....#.#.......#.#..#.#..#.#.......#.\n",
      "#..#...#..###.....#.####.#..#.###....#..\n",
      "###...#...#.......#.#..#.###..#.....#...\n",
      "#....#....#....#..#.#..#.#.#..#....#....\n",
      "#....####.#.....##..#..#.#..#.#....####.\n"
     ]
    }
   ],
   "source": [
    "# Read in XYZ\n",
    "file = open('puzzleinput.txt')\n",
    "inputSplit = file.read().split('\\n\\n')\n",
    "coordinateStrings = inputSplit[0].strip().split('\\n')\n",
    "\n",
    "# Get the list of coordinates, the size of the paper, and the instructions\n",
    "coordinates = [[int(x.split(',')[0]),int(x.split(',')[1])] for x in coordinateStrings]\n",
    "puzzleWidth = max([int(x.split(',')[0]) for x in coordinateStrings]) + 1\n",
    "puzzleHeight = max([int(x.split(',')[1]) for x in coordinateStrings]) + 1\n",
    "instructions = inputSplit[1].strip().split('\\n')\n",
    "\n",
    "# Solve parts 1 and 2\n",
    "part1Solution = solve_part1(coordinates, puzzleWidth, puzzleHeight, instructions)\n",
    "part2Solution = solve_part2(coordinates, puzzleWidth, puzzleHeight, instructions)\n",
    "\n",
    "# Print solution\n",
    "print(\"Part 1 solution: There are \" + str(part1Solution) + \" dots visible after one fold\")\n",
    "print(\"Part 2 solution: The code is displayed below: \")\n",
    "for row in part2Solution:\n",
    "    rowString = ''\n",
    "    for spot in row:\n",
    "        if spot == 0:\n",
    "            rowString += '.'\n",
    "        else:\n",
    "            rowString += '#'\n",
    "    print(rowString)"
   ]
  }
 ],
 "metadata": {
  "interpreter": {
   "hash": "63fd5069d213b44bf678585dea6b12cceca9941eaf7f819626cde1f2670de90d"
  },
  "kernelspec": {
   "display_name": "Python 3.9.1 64-bit",
   "language": "python",
   "name": "python3"
  },
  "language_info": {
   "codemirror_mode": {
    "name": "ipython",
    "version": 3
   },
   "file_extension": ".py",
   "mimetype": "text/x-python",
   "name": "python",
   "nbconvert_exporter": "python",
   "pygments_lexer": "ipython3",
   "version": "3.9.1"
  },
  "metadata": {
   "interpreter": {
    "hash": "63fd5069d213b44bf678585dea6b12cceca9941eaf7f819626cde1f2670de90d"
   }
  },
  "orig_nbformat": 2
 },
 "nbformat": 4,
 "nbformat_minor": 2
}
