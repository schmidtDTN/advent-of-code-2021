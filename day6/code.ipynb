{
 "cells": [
  {
   "cell_type": "code",
   "execution_count": 20,
   "metadata": {},
   "outputs": [],
   "source": [
    "def setup_lanternfish_memo(startingTimer, days, depth, memoTable):\r\n",
    "    # Base case\r\n",
    "    if days < 0:\r\n",
    "        return (memoTable, 0)\r\n",
    "    \r\n",
    "    # Count the \"parent\" fish\r\n",
    "    fishCount = 1\r\n",
    "    # Set the current fish's timer\r\n",
    "    currentFishTimer = startingTimer\r\n",
    "    # Step through each day\r\n",
    "    for daysElapsed in range(1, days + 2):\r\n",
    "        # Decrement the current fish's timer\r\n",
    "        currentFishTimer -= 1\r\n",
    "        # If the timer has elapsed, reset the timer to 6 and spawn a new fish\r\n",
    "        if currentFishTimer < 0:\r\n",
    "            currentFishTimer = 6\r\n",
    "            # If we've already seen a fish with this starting age at this many days, grab the number of spawns from it\r\n",
    "            if memoTable.get((startingTimer, days)):\r\n",
    "                fishCount = memoTable.get((startingTimer, days))\r\n",
    "            # If this is a new timer/day combo, recurse and store the number of spawns\r\n",
    "            else:\r\n",
    "                (memoTable, nextFishCount) = setup_lanternfish_memo(8, days - daysElapsed, depth + 1, memoTable)\r\n",
    "                fishCount = fishCount + nextFishCount\r\n",
    "\r\n",
    "    # Update the memoization and return\r\n",
    "    memoTable.update({(startingTimer, days): fishCount})\r\n",
    "    return (memoTable, fishCount)"
   ]
  },
  {
   "cell_type": "code",
   "execution_count": 21,
   "metadata": {},
   "outputs": [],
   "source": [
    "# Lazy function to count fish based on ages and results\r\n",
    "def count_lanternfish(input, memo):\r\n",
    "    total_fish = 0\r\n",
    "    for fish in input:\r\n",
    "        total_fish = total_fish + memo.get(fish)\r\n",
    "    return total_fish"
   ]
  },
  {
   "cell_type": "code",
   "execution_count": 22,
   "metadata": {},
   "outputs": [
    {
     "name": "stdout",
     "output_type": "stream",
     "text": [
      "Part 1 solution: There are 379114 lanternfish after 80 days\n",
      "Part 2 solution: There are 1702631502303 lanternfish after 256 days\n"
     ]
    }
   ],
   "source": [
    "# Read in fish ages\r\n",
    "file = open('puzzleinput.txt')\r\n",
    "input = file.read()\r\n",
    "ages = [int(x) for x in input.strip().split(',')]\r\n",
    "\r\n",
    "part_1_table = {}\r\n",
    "part_2_table = {}\r\n",
    "\r\n",
    "# Get the solutions for parts 1 and 2\r\n",
    "for i in range(1,7):\r\n",
    "    (_, part_1_fish_spawned) = setup_lanternfish_memo(i, 80, 0, {})\r\n",
    "    (_, part_2_fish_spawned) = setup_lanternfish_memo(i, 256, 0, {})\r\n",
    "    part_1_table.update({i: part_1_fish_spawned})\r\n",
    "    part_2_table.update({i: part_2_fish_spawned})\r\n",
    "\r\n",
    "# Count the result for the ages from the puzzle input\r\n",
    "part1 = count_lanternfish(ages, part_1_table)\r\n",
    "part2 = count_lanternfish(ages, part_2_table)\r\n",
    "\r\n",
    "# Print solution\r\n",
    "print(\"Part 1 solution: There are \" + str(part1) + \" lanternfish after 80 days\")\r\n",
    "print(\"Part 2 solution: There are \" + str(part2) + \" lanternfish after 256 days\")"
   ]
  }
 ],
 "metadata": {
  "kernelspec": {
   "display_name": "Python 3.9.1 64-bit",
   "name": "python391jvsc74a57bd063fd5069d213b44bf678585dea6b12cceca9941eaf7f819626cde1f2670de90d"
  },
  "language_info": {
   "codemirror_mode": {
    "name": "ipython",
    "version": 3
   },
   "file_extension": ".py",
   "mimetype": "text/x-python",
   "name": "python",
   "nbconvert_exporter": "python",
   "pygments_lexer": "ipython3",
   "version": "3.9.1"
  },
  "metadata": {
   "interpreter": {
    "hash": "63fd5069d213b44bf678585dea6b12cceca9941eaf7f819626cde1f2670de90d"
   }
  },
  "orig_nbformat": 2
 },
 "nbformat": 4,
 "nbformat_minor": 2
}