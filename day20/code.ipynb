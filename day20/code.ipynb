{
 "cells": [
  {
   "cell_type": "code",
   "execution_count": 253,
   "metadata": {},
   "outputs": [],
   "source": [
    "def getInputPixels(input, rowIdx, colIdx, iteration):\n",
    "    inputPixels = []\n",
    "    upEmpty = False\n",
    "    downEmpty = False\n",
    "    leftEmpty = False\n",
    "    rightEmpty = False\n",
    "    if rowIdx - 1 < 0:\n",
    "        upEmpty = True\n",
    "    if rowIdx + 1 > len(input) - 1:\n",
    "        downEmpty = True\n",
    "    if colIdx - 1 < 0:\n",
    "        leftEmpty = True\n",
    "    if colIdx + 1 > len(input[0]) - 1:\n",
    "        rightEmpty = True\n",
    "    if iteration % 2 == 0:\n",
    "        default = '.'\n",
    "    else:\n",
    "        default = '#'\n",
    "\n",
    "    # Up left\n",
    "    if upEmpty or leftEmpty:\n",
    "        inputPixels.append(default)\n",
    "    else:\n",
    "        inputPixels.append(input[rowIdx - 1][colIdx - 1])\n",
    "    # Up\n",
    "    if upEmpty:\n",
    "        inputPixels.append(default)\n",
    "    else:\n",
    "        inputPixels.append(input[rowIdx - 1][colIdx])\n",
    "    # Up right\n",
    "    if upEmpty or rightEmpty:\n",
    "        inputPixels.append(default)\n",
    "    else: \n",
    "        inputPixels.append(input[rowIdx - 1][colIdx + 1])\n",
    "    # Left\n",
    "    if leftEmpty:\n",
    "        inputPixels.append(default)\n",
    "    else:\n",
    "        inputPixels.append(input[rowIdx][colIdx - 1])\n",
    "    # Center\n",
    "    inputPixels.append(input[rowIdx][colIdx])\n",
    "    # Right\n",
    "    if rightEmpty:\n",
    "        inputPixels.append(default)\n",
    "    else:\n",
    "        inputPixels.append(input[rowIdx][colIdx + 1])\n",
    "    # Down left\n",
    "    if downEmpty or leftEmpty: \n",
    "        inputPixels.append(default)\n",
    "    else:\n",
    "        inputPixels.append(input[rowIdx + 1][colIdx - 1])\n",
    "    # Down\n",
    "    if downEmpty:\n",
    "        inputPixels.append(default)\n",
    "    else:\n",
    "        inputPixels.append(input[rowIdx + 1][colIdx])\n",
    "    # Down right\n",
    "    if downEmpty or rightEmpty:\n",
    "        inputPixels.append(default)\n",
    "    else:\n",
    "        inputPixels.append(input[rowIdx + 1][colIdx + 1])\n",
    "    inputValue = \"\".join(inputPixels).replace('.', '0').replace('#', '1')\n",
    "\n",
    "    return inputValue"
   ]
  },
  {
   "cell_type": "code",
   "execution_count": 254,
   "metadata": {},
   "outputs": [],
   "source": [
    "# Solve Part 1\n",
    "def solve(algorithm, input, iteration):\n",
    "    output = []\n",
    "    for rowIdx, row in enumerate(input):\n",
    "        outRow = ''\n",
    "        for colIdx, _ in enumerate(row):\n",
    "            inputValue = getInputPixels(input, rowIdx, colIdx, iteration)\n",
    "            algoIndex = int(inputValue, 2)\n",
    "            outRow += algorithm[algoIndex]\n",
    "        output.append(outRow)\n",
    "    return output"
   ]
  },
  {
   "cell_type": "code",
   "execution_count": 255,
   "metadata": {},
   "outputs": [],
   "source": [
    "def prep_input(input, iteration):\n",
    "    if iteration % 2 == 0: \n",
    "        input = ['...' + line + '...' for line in input]\n",
    "        extraDots = '.' * len(input[0])\n",
    "        for _ in range(0, 3):\n",
    "            input.insert(0, extraDots)\n",
    "            input.append(extraDots)\n",
    "        return input\n",
    "    else:\n",
    "        input = ['###' + line + '###' for line in input]\n",
    "        extraDots = '#' * len(input[0])\n",
    "        for _ in range(0, 3):\n",
    "            input.insert(0, extraDots)\n",
    "            input.append(extraDots)\n",
    "        return input"
   ]
  },
  {
   "cell_type": "code",
   "execution_count": 256,
   "metadata": {},
   "outputs": [
    {
     "name": "stdout",
     "output_type": "stream",
     "text": [
      "Part 1 solution: After 2 enhancements, there are 5291 lit pixels.\n",
      "Part 2 solution: After 50 enhancements, there are 16665 lit pixels.\n"
     ]
    }
   ],
   "source": [
    "# Read in XYZ\n",
    "file = open('puzzleinput.txt')\n",
    "algorithm = file.readline()\n",
    "_ = file.readline()\n",
    "input = [line.strip() for line in file.readlines()]\n",
    "part1Input = input.copy()\n",
    "#input = prep_input(input, 0)\n",
    "\n",
    "# Get the solutions to each part\n",
    "for i in range(0,2):\n",
    "    input = prep_input(input, i)\n",
    "    input = solve(algorithm, input, i)\n",
    "output = \"\\n\".join(input)\n",
    "part1Solution = output.count('#')\n",
    "\n",
    "# Run 48 more times to get 50 enhancements\n",
    "for i in range(0,48):\n",
    "    input = prep_input(input, i)\n",
    "    input = solve(algorithm, input, i)\n",
    "output = \"\\n\".join(input)\n",
    "part2Solution = output.count('#')\n",
    "#solve_part2()\n",
    "\n",
    "# Print solution\n",
    "print(\"Part 1 solution: After 2 enhancements, there are \" + str(part1Solution) + \" lit pixels.\")\n",
    "print(\"Part 2 solution: After 50 enhancements, there are \" + str(part2Solution) + \" lit pixels.\")"
   ]
  }
 ],
 "metadata": {
  "interpreter": {
   "hash": "63fd5069d213b44bf678585dea6b12cceca9941eaf7f819626cde1f2670de90d"
  },
  "kernelspec": {
   "display_name": "Python 3.9.1 64-bit",
   "language": "python",
   "name": "python3"
  },
  "language_info": {
   "codemirror_mode": {
    "name": "ipython",
    "version": 3
   },
   "file_extension": ".py",
   "mimetype": "text/x-python",
   "name": "python",
   "nbconvert_exporter": "python",
   "pygments_lexer": "ipython3",
   "version": "3.9.1"
  },
  "metadata": {
   "interpreter": {
    "hash": "63fd5069d213b44bf678585dea6b12cceca9941eaf7f819626cde1f2670de90d"
   }
  },
  "orig_nbformat": 2
 },
 "nbformat": 4,
 "nbformat_minor": 2
}
