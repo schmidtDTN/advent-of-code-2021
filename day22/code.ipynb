{
 "cells": [
  {
   "cell_type": "code",
   "execution_count": 1,
   "metadata": {},
   "outputs": [],
   "source": [
    "def switch_on(onSet, xMin, xMax, yMin, yMax, zMin, zMax):\n",
    "    for x in range(xMin, xMax + 1):\n",
    "        for y in range(yMin, yMax + 1):\n",
    "            for z in range(zMin, zMax + 1):\n",
    "                if (x <= 50 and x >= -50) and (y <= 50 and y >= -50) and (z <= 50 and z >= -50):\n",
    "                    onSet.add((x, y, z))\n",
    "    return onSet"
   ]
  },
  {
   "cell_type": "code",
   "execution_count": 2,
   "metadata": {},
   "outputs": [],
   "source": [
    "def switch_off(onSet, xMin, xMax, yMin, yMax, zMin, zMax):\n",
    "    for x in range(xMin, xMax + 1):\n",
    "        for y in range(yMin, yMax + 1):\n",
    "            for z in range(zMin, zMax + 1):\n",
    "                onSet.discard((x, y, z))\n",
    "    return onSet"
   ]
  },
  {
   "cell_type": "code",
   "execution_count": 3,
   "metadata": {},
   "outputs": [],
   "source": [
    "# Solve part 1 by XYZ\n",
    "def solve_part1(input):\n",
    "    onSet = set()\n",
    "    for inputLine in input:\n",
    "        command = inputLine.strip().split(' ')[0]\n",
    "        coordinates = inputLine.strip().split(' ')[1]\n",
    "        xCoords = coordinates.split(',')[0].split('x=')[1]\n",
    "        yCoords = coordinates.split(',')[1].split('y=')[1]\n",
    "        zCoords = coordinates.split(',')[2].split('z=')[1]\n",
    "        xMin = int(xCoords.split('..')[0])\n",
    "        xMax = int(xCoords.split('..')[1])\n",
    "        yMin = int(yCoords.split('..')[0])\n",
    "        yMax = int(yCoords.split('..')[1])\n",
    "        zMin = int(zCoords.split('..')[0])\n",
    "        zMax = int(zCoords.split('..')[1])\n",
    "        if command == 'on':\n",
    "            onSet = switch_on(onSet, xMin, xMax, yMin, yMax, zMin, zMax)\n",
    "        if command == 'off':\n",
    "            onSet = switch_off(onSet, xMin, xMax, yMin, yMax, zMin, zMax)\n",
    "        #print(onSet)\n",
    "    print(len(onSet))\n",
    "        #print('\\n')\n",
    "        \n",
    "        "
   ]
  },
  {
   "cell_type": "code",
   "execution_count": 4,
   "metadata": {},
   "outputs": [],
   "source": [
    "# Solve part 2 by XYZ\n",
    "def solve_part2():\n",
    "    print('test')"
   ]
  },
  {
   "cell_type": "code",
   "execution_count": 5,
   "metadata": {},
   "outputs": [
    {
     "name": "stdout",
     "output_type": "stream",
     "text": [
      "647062\n",
      "None\n"
     ]
    }
   ],
   "source": [
    "# Read in XYZ\n",
    "file = open('puzzleinput.txt')\n",
    "input = file.readlines()\n",
    "\n",
    "# Solve parts 1 and 2\n",
    "part1Solution = solve_part1(input)\n",
    "#part2Solution = solve_part2(coordinates, puzzleWidth, puzzleHeight, instructions)\n",
    "print(part1Solution)\n",
    "\n",
    "# Print solution\n",
    "#print(\"Part 1 solution: There are \" + str(part1Solution) + \" dots visible after one fold\")\n",
    "#print(\"Part 2 solution: The code is displayed below: \")"
   ]
  }
 ],
 "metadata": {
  "interpreter": {
   "hash": "63fd5069d213b44bf678585dea6b12cceca9941eaf7f819626cde1f2670de90d"
  },
  "kernelspec": {
   "display_name": "Python 3.9.1 64-bit",
   "language": "python",
   "name": "python3"
  },
  "language_info": {
   "codemirror_mode": {
    "name": "ipython",
    "version": 3
   },
   "file_extension": ".py",
   "mimetype": "text/x-python",
   "name": "python",
   "nbconvert_exporter": "python",
   "pygments_lexer": "ipython3",
   "version": "3.9.1"
  },
  "metadata": {
   "interpreter": {
    "hash": "63fd5069d213b44bf678585dea6b12cceca9941eaf7f819626cde1f2670de90d"
   }
  },
  "orig_nbformat": 2
 },
 "nbformat": 4,
 "nbformat_minor": 2
}
