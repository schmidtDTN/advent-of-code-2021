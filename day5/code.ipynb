{
 "cells": [
  {
   "cell_type": "code",
   "execution_count": 124,
   "metadata": {},
   "outputs": [],
   "source": [
    "# Split the coordinate data into usable ints\r\n",
    "def splitCoordData(coordEntry):\r\n",
    "    coords = coordEntry.split(' -> ')\r\n",
    "    x1 = int(coords[0].split(',')[0])\r\n",
    "    x2 = int(coords[1].split(',')[0])\r\n",
    "    y1 = int(coords[0].split(',')[1])\r\n",
    "    y2 = int(coords[1].split(',')[1])\r\n",
    "    # Return the coordinates as ordered ints\r\n",
    "    return [x1,y1,x2,y2]"
   ]
  },
  {
   "cell_type": "code",
   "execution_count": 125,
   "metadata": {},
   "outputs": [],
   "source": [
    "# Add coordinate to dict\r\n",
    "def update_dict(coordsDict, coord):\r\n",
    "    # Add the current coordinate to the dict if it doesn't exist yet\r\n",
    "    # or increment the counter if it does\r\n",
    "    if coord in coordsDict:\r\n",
    "        coordsDict[coord] += 1\r\n",
    "    else:\r\n",
    "        coordsDict[coord] = 1\r\n",
    "    return coordsDict"
   ]
  },
  {
   "cell_type": "code",
   "execution_count": 126,
   "metadata": {},
   "outputs": [],
   "source": [
    "# Find vents based on coordinates\r\n",
    "def find_vents(coordsList, part2):\r\n",
    "    encounteredCoordsDict = {}\r\n",
    "    # Run through all the entries in the input\r\n",
    "    for entry in coordsList:\r\n",
    "        # Get the coordinate values as ints\r\n",
    "        [x1,y1,x2,y2] = splitCoordData(entry)\r\n",
    "        # If a straight vertical line\r\n",
    "        if x1 == x2:\r\n",
    "            # Get the range of y values\r\n",
    "            smallerY = min([y1,y2])\r\n",
    "            biggerY = max([y1,y2])\r\n",
    "            # Iterate through the y values\r\n",
    "            for y in range(smallerY,biggerY + 1):\r\n",
    "                # Assemble a tuple of the current coordinate\r\n",
    "                coordEncountered = (x1,y)\r\n",
    "                # Update the dict\r\n",
    "                encounteredCoordsDict = update_dict(encounteredCoordsDict, coordEncountered)\r\n",
    "        # If a straight horizontal line\r\n",
    "        elif y1 == y2:\r\n",
    "            # Get the range of x values\r\n",
    "            smallerX = min([x1,x2])\r\n",
    "            biggerX = max([x1,x2])\r\n",
    "            # Iterate through the x values\r\n",
    "            for x in range(smallerX,biggerX + 1):\r\n",
    "                # Assemble a tuple of the current coordinate\r\n",
    "                coordEncountered = (x,y1)\r\n",
    "                # Update the dict\r\n",
    "                encounteredCoordsDict = update_dict(encounteredCoordsDict, coordEncountered)\r\n",
    "        # If a diagonal line\r\n",
    "        else:\r\n",
    "            # Ignore diagonal lines for part 1\r\n",
    "            if part2:\r\n",
    "                # Construct the coord pairs\r\n",
    "                pairs = {x1:y1, x2:y2}\r\n",
    "\r\n",
    "                # Get relevant x and y values\r\n",
    "                smallerX = min([x1,x2])\r\n",
    "                biggerX = max([x1,x2])\r\n",
    "                smallerY = min([y1,y2])\r\n",
    "                selectedY = pairs.get(smallerX)\r\n",
    "                currentY = selectedY\r\n",
    "\r\n",
    "                # Iterate through the coordinates in the diagonal line\r\n",
    "                for currentX in range(smallerX,biggerX + 1):\r\n",
    "                    # Grab the current coordinate\r\n",
    "                    coordEncountered = (currentX,currentY)\r\n",
    "                    # Update the dict\r\n",
    "                    encounteredCoordsDict = update_dict(encounteredCoordsDict, coordEncountered)\r\n",
    "                    # Update the y value for the next coordinate\r\n",
    "                    if selectedY == smallerY:\r\n",
    "                        currentY += 1\r\n",
    "                    else:\r\n",
    "                        currentY -= 1\r\n",
    "\r\n",
    "    # Assemble solution\r\n",
    "    solution = 0\r\n",
    "    # Iterate through coordinates in the dict\r\n",
    "    for number in encounteredCoordsDict.values():\r\n",
    "        # If there are more than 2 lines at the current coord, increase the solution counter by 1\r\n",
    "        if number >= 2:\r\n",
    "            solution += 1\r\n",
    "        \r\n",
    "    return solution"
   ]
  },
  {
   "cell_type": "code",
   "execution_count": null,
   "metadata": {},
   "outputs": [],
   "source": [
    "# Read in coordinates \r\n",
    "file = open('puzzleinput.txt')\r\n",
    "input = file.read()\r\n",
    "coordsList = input.splitlines()\r\n",
    "\r\n",
    "# Get the solutions for parts 1 and 2\r\n",
    "part1 = find_vents(coordsList, False)\r\n",
    "part2 = find_vents(coordsList, True)\r\n",
    "\r\n",
    "# Print solution\r\n",
    "print(\"Part 1 solution: There are \" + str(part1) + \" overlapping lines\")\r\n",
    "print(\"Part 2 solution: There are \" + str(part2) + \" overlapping lines\")"
   ]
  }
 ],
 "metadata": {
  "kernelspec": {
   "display_name": "Python 3.9.1 64-bit",
   "name": "python391jvsc74a57bd063fd5069d213b44bf678585dea6b12cceca9941eaf7f819626cde1f2670de90d"
  },
  "language_info": {
   "codemirror_mode": {
    "name": "ipython",
    "version": 3
   },
   "file_extension": ".py",
   "mimetype": "text/x-python",
   "name": "python",
   "nbconvert_exporter": "python",
   "pygments_lexer": "ipython3",
   "version": "3.9.1"
  },
  "metadata": {
   "interpreter": {
    "hash": "63fd5069d213b44bf678585dea6b12cceca9941eaf7f819626cde1f2670de90d"
   }
  },
  "orig_nbformat": 2
 },
 "nbformat": 4,
 "nbformat_minor": 2
}