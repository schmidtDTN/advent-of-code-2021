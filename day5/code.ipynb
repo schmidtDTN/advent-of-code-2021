{
 "cells": [
  {
   "cell_type": "code",
   "execution_count": 82,
   "metadata": {},
   "outputs": [],
   "source": [
    "def splitCoordData(coordEntry):\r\n",
    "    coords = coordEntry.split(' -> ')\r\n",
    "    x1 = coords[0].split(',')[0]\r\n",
    "    x2 = coords[1].split(',')[0]\r\n",
    "    y1 = coords[0].split(',')[1]\r\n",
    "    y2 = coords[1].split(',')[1]\r\n",
    "    return [x1,y1,x2,y2]"
   ]
  },
  {
   "cell_type": "code",
   "execution_count": 83,
   "metadata": {},
   "outputs": [],
   "source": [
    "# Part 1\r\n",
    "def part1(coordsList):\r\n",
    "    encounteredCoordsDict = {}\r\n",
    "    for entry in coordsList:\r\n",
    "        [x1,y1,x2,y2] = splitCoordData(entry)\r\n",
    "        if x1 == x2:\r\n",
    "            smallerY = min([int(y1),int(y2)])\r\n",
    "            biggerY = max([int(y1),int(y2)])\r\n",
    "            for y in range(smallerY,biggerY + 1):\r\n",
    "                coordEncountered = str(x1) + '.' + str(y)\r\n",
    "                if coordEncountered in encounteredCoordsDict:\r\n",
    "                    encounteredCoordsDict[coordEncountered] += 1\r\n",
    "                else:\r\n",
    "                    encounteredCoordsDict[coordEncountered] = 1\r\n",
    "        if y1 == y2:\r\n",
    "            smallerX = min([int(x1),int(x2)])\r\n",
    "            biggerX = max([int(x1),int(x2)])\r\n",
    "            for x in range(smallerX,biggerX + 1):\r\n",
    "                coordEncountered = str(x) + '.' + str(y1)\r\n",
    "                if coordEncountered in encounteredCoordsDict:\r\n",
    "                    encounteredCoordsDict[coordEncountered] += 1\r\n",
    "                else:\r\n",
    "                    encounteredCoordsDict[coordEncountered] = 1        \r\n",
    "\r\n",
    "    solnCount = 0\r\n",
    "    for number in encounteredCoordsDict.values():\r\n",
    "        if number >= 2:\r\n",
    "            solnCount += 1\r\n",
    "    \r\n",
    "    return solnCount\r\n",
    "    "
   ]
  },
  {
   "cell_type": "code",
   "execution_count": 84,
   "metadata": {},
   "outputs": [],
   "source": [
    "# Part 2\r\n",
    "def part2(coordsList):\r\n",
    "    encounteredCoordsDict = {}\r\n",
    "    for entry in coordsList:\r\n",
    "        [x1,y1,x2,y2] = splitCoordData(entry)\r\n",
    "        if x1 == x2:\r\n",
    "            smallerY = min([int(y1),int(y2)])\r\n",
    "            biggerY = max([int(y1),int(y2)])\r\n",
    "            for y in range(smallerY,biggerY + 1):\r\n",
    "                coordEncountered = str(x1) + '.' + str(y)\r\n",
    "                if coordEncountered in encounteredCoordsDict:\r\n",
    "                    encounteredCoordsDict[coordEncountered] += 1\r\n",
    "                else:\r\n",
    "                    encounteredCoordsDict[coordEncountered] = 1\r\n",
    "        elif y1 == y2:\r\n",
    "            smallerX = min([int(x1),int(x2)])\r\n",
    "            biggerX = max([int(x1),int(x2)])\r\n",
    "            for x in range(smallerX,biggerX + 1):\r\n",
    "                coordEncountered = str(x) + '.' + str(y1)\r\n",
    "                if coordEncountered in encounteredCoordsDict:\r\n",
    "                    encounteredCoordsDict[coordEncountered] += 1\r\n",
    "                else:\r\n",
    "                    encounteredCoordsDict[coordEncountered] = 1\r\n",
    "        else:\r\n",
    "            #print(x1,y1,x2,y2)\r\n",
    "            pairs = {int(x1):int(y1),int(x2):int(y2)}\r\n",
    "\r\n",
    "            smallerX = min([int(x1),int(x2)])\r\n",
    "            biggerX = max([int(x1),int(x2)])\r\n",
    "            smallerY = min([int(y1),int(y2)])\r\n",
    "            biggerY = max([int(y1),int(y2)])\r\n",
    "            currentX = smallerX\r\n",
    "            #print(pairs)\r\n",
    "            #print(smallerX)\r\n",
    "            selectedY = pairs.get(currentX)\r\n",
    "            #print(selectedY)\r\n",
    "            currentY = selectedY\r\n",
    "            for x in range(currentX,biggerX + 1):\r\n",
    "                #print(x, ' ', currentY)\r\n",
    "                coordEncountered = str(x) + '.' + str(currentY)\r\n",
    "                if coordEncountered in encounteredCoordsDict:\r\n",
    "                    encounteredCoordsDict[coordEncountered] += 1\r\n",
    "                else:\r\n",
    "                    encounteredCoordsDict[coordEncountered] = 1\r\n",
    "                #print(currentY)\r\n",
    "                if selectedY == smallerY:\r\n",
    "                    currentY += 1\r\n",
    "                else:\r\n",
    "                    currentY -= 1\r\n",
    "                #print(coordEncountered)\r\n",
    "\r\n",
    "\r\n",
    "    solnCount = 0\r\n",
    "    for number in encounteredCoordsDict.values():\r\n",
    "        if number >= 2:\r\n",
    "            solnCount += 1\r\n",
    "        \r\n",
    "    return solnCount"
   ]
  },
  {
   "cell_type": "code",
   "execution_count": 85,
   "metadata": {},
   "outputs": [
    {
     "name": "stdout",
     "output_type": "stream",
     "text": [
      "Part 1 solution: There are 4655 overlapping lines\n",
      "Part 2 solution: There are 20500 overlapping lines\n"
     ]
    }
   ],
   "source": [
    "import numpy as np\r\n",
    "file = open('puzzleinput.txt')\r\n",
    "input = file.read()\r\n",
    "coordsList = input.splitlines()\r\n",
    "\r\n",
    "part1 = part1(coordsList)\r\n",
    "part2 = part2(coordsList)\r\n",
    "\r\n",
    "# Solve\r\n",
    "print(\"Part 1 solution: There are \" + str(part1) + \" overlapping lines\")\r\n",
    "print(\"Part 2 solution: There are \" + str(part2) + \" overlapping lines\")"
   ]
  }
 ],
 "metadata": {
  "kernelspec": {
   "display_name": "Python 3.9.1 64-bit",
   "name": "python391jvsc74a57bd063fd5069d213b44bf678585dea6b12cceca9941eaf7f819626cde1f2670de90d"
  },
  "language_info": {
   "codemirror_mode": {
    "name": "ipython",
    "version": 3
   },
   "file_extension": ".py",
   "mimetype": "text/x-python",
   "name": "python",
   "nbconvert_exporter": "python",
   "pygments_lexer": "ipython3",
   "version": "3.9.1"
  },
  "metadata": {
   "interpreter": {
    "hash": "63fd5069d213b44bf678585dea6b12cceca9941eaf7f819626cde1f2670de90d"
   }
  },
  "orig_nbformat": 2
 },
 "nbformat": 4,
 "nbformat_minor": 2
}