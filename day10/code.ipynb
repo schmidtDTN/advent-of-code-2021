{
 "cells": [
  {
   "cell_type": "code",
   "execution_count": 58,
   "metadata": {},
   "outputs": [],
   "source": [
    "# Solve part 1 by finding the corrupted lines and tallying up the total score\n",
    "def solve_part1(input):\n",
    "    parenCount = 0\n",
    "    squareCount = 0\n",
    "    braceCount = 0\n",
    "    caretCount = 0\n",
    "    validInput = []\n",
    "    # Run through all the lines in the input\n",
    "    for line in input:\n",
    "        # Default to being valid until we find a corruption\n",
    "        valid = True\n",
    "        # A stack is the move for this\n",
    "        stack = []\n",
    "        # Run through each character in the input line\n",
    "        for character in line:\n",
    "            # If the current character is an opener, put it on the stack\n",
    "            if character in '{([<':\n",
    "                stack.append(character)\n",
    "            # Handle closers\n",
    "            else:\n",
    "                # Pop the last opener off the stack\n",
    "                lastOpen = stack.pop()\n",
    "                # If this is a corruption, then add to the count of corruptions for this character\n",
    "                # and also set this line as invalid\n",
    "                if character == ')' and lastOpen != '(':\n",
    "                    parenCount += 1\n",
    "                    valid = False\n",
    "                elif character == ']' and lastOpen != '[':\n",
    "                    squareCount += 1\n",
    "                    valid = False\n",
    "                elif character == '}' and lastOpen != '{':\n",
    "                    braceCount += 1\n",
    "                    valid = False\n",
    "                elif character == '>' and lastOpen != '<':\n",
    "                    caretCount += 1\n",
    "                    valid = False\n",
    "        # If the input is valid, add it to the list of valid inputs\n",
    "        if valid == True:\n",
    "            validInput.append(line)\n",
    "    # Get the total score together and return\n",
    "    totalScore = (parenCount * 3) + (squareCount * 57) + (braceCount * 1197) + (caretCount * 25137)\n",
    "    return (totalScore, validInput)"
   ]
  },
  {
   "cell_type": "code",
   "execution_count": 59,
   "metadata": {},
   "outputs": [],
   "source": [
    "# Solve part 2 by running through valid but incomplete inputs and completing them\n",
    "def solve_part2(input):\n",
    "    scores = []\n",
    "    # Iterate through each valid input\n",
    "    for line in input:\n",
    "        # Stack again\n",
    "        stack = []\n",
    "        # Setting up a string to track what closers are needed to complete the line\n",
    "        completion = ''\n",
    "        # Build up a stack of the openers that haven't been closed\n",
    "        for character in line:\n",
    "            if character in '{([<':\n",
    "                stack.append(character)\n",
    "            else:\n",
    "                stack.pop()\n",
    "        # Run through all the leftover openers\n",
    "        while len(stack) > 0:\n",
    "            # Pop the last opener off the stack and append the correct closer to the completion string\n",
    "            lastOpen = stack.pop()\n",
    "            if lastOpen == '(':\n",
    "                completion += ')'\n",
    "            elif lastOpen == '[':\n",
    "                completion += ']'\n",
    "            elif lastOpen == '{':\n",
    "                completion += '}'\n",
    "            elif lastOpen == '<':\n",
    "                completion += '>'\n",
    "        # Set up a score tracker                \n",
    "        totalScore = 0\n",
    "        # Run through each closer needed to finish the line\n",
    "        for closer in completion:\n",
    "            # Update the total score according to the closer\n",
    "            totalScore = totalScore * 5\n",
    "            if closer == ')':\n",
    "                totalScore += 1\n",
    "            elif closer == ']':\n",
    "                totalScore += 2\n",
    "            elif closer == '}':\n",
    "                totalScore += 3\n",
    "            elif closer == '>':\n",
    "                totalScore += 4\n",
    "        # Add this line's score to the score array\n",
    "        scores.append(totalScore)\n",
    "    # Sort the scores and grab the middle one\n",
    "    scores.sort()\n",
    "    middleScore = scores[int(len(scores) / 2)]\n",
    "    return middleScore"
   ]
  },
  {
   "cell_type": "code",
   "execution_count": 60,
   "metadata": {},
   "outputs": [
    {
     "name": "stdout",
     "output_type": "stream",
     "text": [
      "Part 1 solution: The total syntax error score is 374061\n",
      "Part 2 solution: The middle score is 2116639949\n"
     ]
    }
   ],
   "source": [
    "# Read in notes on signals\n",
    "file = open('puzzleinput.txt')\n",
    "input = [line.strip() for line in file]\n",
    "\n",
    "# Solve parts 1 and 2\n",
    "(part1Solution, validInput) = solve_part1(input)\n",
    "part2Solution = solve_part2(validInput)\n",
    "\n",
    "# Print solution\n",
    "print(\"Part 1 solution: The total syntax error score is \" + str(part1Solution))\n",
    "print(\"Part 2 solution: The middle score is \" + str(part2Solution))"
   ]
  }
 ],
 "metadata": {
  "interpreter": {
   "hash": "63fd5069d213b44bf678585dea6b12cceca9941eaf7f819626cde1f2670de90d"
  },
  "kernelspec": {
   "display_name": "Python 3.9.1 64-bit",
   "language": "python",
   "name": "python3"
  },
  "language_info": {
   "codemirror_mode": {
    "name": "ipython",
    "version": 3
   },
   "file_extension": ".py",
   "mimetype": "text/x-python",
   "name": "python",
   "nbconvert_exporter": "python",
   "pygments_lexer": "ipython3",
   "version": "3.9.1"
  },
  "metadata": {
   "interpreter": {
    "hash": "63fd5069d213b44bf678585dea6b12cceca9941eaf7f819626cde1f2670de90d"
   }
  },
  "orig_nbformat": 2
 },
 "nbformat": 4,
 "nbformat_minor": 2
}
