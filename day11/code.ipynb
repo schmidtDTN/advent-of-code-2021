{
 "cells": [
  {
   "cell_type": "code",
   "execution_count": 73,
   "metadata": {},
   "outputs": [],
   "source": [
    "# Handle a flash - recursively go through all adjacent (including diagonal) spaces and update \n",
    "# their energy + flash if appropriate\n",
    "def processFlash(map, flashX, flashY, flashedPoints, flashes):\n",
    "    mapHeight = len(map)\n",
    "    mapWidth = len(map[0])\n",
    "    # Check if neighboring cells are valid\n",
    "    canGoUp = False\n",
    "    canGoDown = False\n",
    "    canGoLeft = False\n",
    "    canGoRight = False\n",
    "    if flashX - 1 >= 0:\n",
    "        canGoUp = True\n",
    "    if flashX + 1 <= mapHeight - 1:\n",
    "        canGoDown = True\n",
    "    if flashY - 1 >= 0:\n",
    "        canGoLeft = True\n",
    "    if flashY + 1 <= mapWidth - 1:\n",
    "        canGoRight = True\n",
    "    # Update the current cell's energy\n",
    "    map[flashX][flashY] = map[flashX][flashY] + 1\n",
    "    # If the current cell has energy > 9 and hasn't been flashed, then flash it\n",
    "    # and process adjacent cell's response to the flash\n",
    "    if map[flashX][flashY] > 9 and (flashX, flashY) not in flashedPoints:\n",
    "        flashedPoints.append((flashX, flashY))\n",
    "        flashes += 1\n",
    "        map[flashX][flashY] = 0\n",
    "\n",
    "        # Up row\n",
    "        if canGoUp:\n",
    "            (map, flashedPoints, flashes) = processFlash(map, flashX - 1, flashY, flashedPoints, flashes)\n",
    "            # Up left\n",
    "            if canGoLeft:\n",
    "                (map, flashedPoints, flashes) = processFlash(map, flashX - 1, flashY - 1, flashedPoints, flashes)\n",
    "            # Up right\n",
    "            if canGoRight:\n",
    "                (map, flashedPoints, flashes) = processFlash(map, flashX - 1, flashY + 1, flashedPoints, flashes)\n",
    "        # Down row\n",
    "        if canGoDown:\n",
    "            (map, flashedPoints, flashes) = processFlash(map, flashX + 1, flashY, flashedPoints, flashes)\n",
    "            # Down left\n",
    "            if canGoLeft:\n",
    "                (map, flashedPoints, flashes) = processFlash(map, flashX + 1, flashY - 1, flashedPoints, flashes)\n",
    "            # Down right\n",
    "            if canGoRight:\n",
    "                (map, flashedPoints, flashes) = processFlash(map, flashX + 1, flashY + 1, flashedPoints, flashes)\n",
    "        # Middle left\n",
    "        if canGoLeft:\n",
    "            (map, flashedPoints, flashes) = processFlash(map, flashX, flashY - 1, flashedPoints, flashes)\n",
    "        # Middle right\n",
    "        if canGoRight:\n",
    "            (map, flashedPoints, flashes) = processFlash(map, flashX, flashY + 1, flashedPoints, flashes)\n",
    "    return (map, flashedPoints, flashes)"
   ]
  },
  {
   "cell_type": "code",
   "execution_count": 74,
   "metadata": {},
   "outputs": [],
   "source": [
    "# Solve part 1 by running through the map for the number of steps and processing flashes\n",
    "def solve_part1(map, steps):\n",
    "    mapHeight = len(map)\n",
    "    mapWidth = len(map[0])\n",
    "    flashes = 0\n",
    "    # Iterate for the number of steps requested\n",
    "    for _ in range(0, steps):\n",
    "        flashedPoints = []\n",
    "        # Increment the energy level of every space\n",
    "        for idx, row in enumerate(map):\n",
    "            map[idx] = [x+1 for x in row]\n",
    "        # Iterate through each space in the map\n",
    "        for currX in range(0, mapHeight):\n",
    "            for currY in range(0, mapWidth):\n",
    "                # Get the new energy level of the current spot\n",
    "                currentEnergy = map[currX][currY]\n",
    "                # If the current energy is greater than 9, flash\n",
    "                if currentEnergy > 9:\n",
    "                    (map, flashedPoints, flashes) = processFlash(map, currX, currY, flashedPoints, flashes)\n",
    "        # Reset any octopi that have flashed to have 0 energy at the end of the step\n",
    "        for (flashedX, flashedY) in flashedPoints:\n",
    "            map[flashedX][flashedY] = 0\n",
    "    return flashes"
   ]
  },
  {
   "cell_type": "code",
   "execution_count": 75,
   "metadata": {},
   "outputs": [],
   "source": [
    "# Solve part 2 by running until we've reached a step where all octopi have flashed\n",
    "def solve_part2(map):\n",
    "    mapHeight = len(map)\n",
    "    mapWidth = len(map[0])\n",
    "    steps = 0\n",
    "    flashes = 0\n",
    "    # Run until all octopi have flashed in a step \n",
    "    # (better have a valid input map or you're going to infinite loop hell)\n",
    "    while flashes < (mapHeight * mapWidth):\n",
    "        # Increment the number of steps\n",
    "        steps += 1\n",
    "        flashedPoints = []\n",
    "        flashes = 0\n",
    "        # Increment the energy level of every space\n",
    "        for idx, row in enumerate(map):\n",
    "            map[idx] = [x+1 for x in row]\n",
    "        # Iterate through each space in the map\n",
    "        for currX in range(0, mapHeight):\n",
    "            for currY in range(0, mapWidth):\n",
    "                # Get the new energy level of the current spot\n",
    "                currentEnergy = map[currX][currY]\n",
    "                # If the current energy is greater than 9, flash\n",
    "                if currentEnergy > 9:\n",
    "                    (map, flashedPoints, flashes) = processFlash(map, currX, currY, flashedPoints, flashes)\n",
    "        # Reset the energy levels of all flashed octopi to 0\n",
    "        for (flashedX, flashedY) in flashedPoints:\n",
    "            map[flashedX][flashedY] = 0\n",
    "    return steps"
   ]
  },
  {
   "cell_type": "code",
   "execution_count": 76,
   "metadata": {},
   "outputs": [
    {
     "name": "stdout",
     "output_type": "stream",
     "text": [
      "Part 1 solution: There have been 1562 flashes after 100 steps\n",
      "Part 2 solution: All of the octopuses flash during step 268\n"
     ]
    }
   ],
   "source": [
    "# Read in octopus map\n",
    "file = open('puzzleinput.txt')\n",
    "map = [[int(x) for x in line.strip()] for line in file]\n",
    "\n",
    "# Solve parts 1 and 2\n",
    "part1Solution = solve_part1(map.copy(), 100)\n",
    "part2Solution = solve_part2(map)\n",
    "\n",
    "# Print solution\n",
    "print(\"Part 1 solution: There have been \" + str(part1Solution) + \" flashes after 100 steps\")\n",
    "print(\"Part 2 solution: All of the octopuses flash during step \" + str(part2Solution))"
   ]
  }
 ],
 "metadata": {
  "interpreter": {
   "hash": "63fd5069d213b44bf678585dea6b12cceca9941eaf7f819626cde1f2670de90d"
  },
  "kernelspec": {
   "display_name": "Python 3.9.1 64-bit",
   "language": "python",
   "name": "python3"
  },
  "language_info": {
   "codemirror_mode": {
    "name": "ipython",
    "version": 3
   },
   "file_extension": ".py",
   "mimetype": "text/x-python",
   "name": "python",
   "nbconvert_exporter": "python",
   "pygments_lexer": "ipython3",
   "version": "3.9.1"
  },
  "metadata": {
   "interpreter": {
    "hash": "63fd5069d213b44bf678585dea6b12cceca9941eaf7f819626cde1f2670de90d"
   }
  },
  "orig_nbformat": 2
 },
 "nbformat": 4,
 "nbformat_minor": 2
}
