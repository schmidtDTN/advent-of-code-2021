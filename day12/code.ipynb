{
 "cells": [
  {
   "cell_type": "code",
   "execution_count": 50,
   "metadata": {},
   "outputs": [],
   "source": [
    "class Cave:\n",
    "    def __init__(self, name, small):\n",
    "        self.small = small\n",
    "        self.name = name\n",
    "        self.visited = False\n",
    "        self.visitCount = 0\n",
    "        self.connections = []\n",
    "        self.canVisit = True\n",
    "    \n",
    "    def add_connection(self, connection):\n",
    "        self.connections.append(connection)\n",
    "    \n",
    "    def visit(self):\n",
    "        self.visited = True\n",
    "        self.visitCount += 1\n",
    "\n",
    "    def unvisit(self):\n",
    "        self.visited = False\n",
    "        self.visitCount -= 1\n",
    "\n",
    "    def startOrEnd(self):\n",
    "        self.visitCount = 9999\n",
    "\n",
    "    def disable(self):\n",
    "        self.canVisit = False\n",
    "    \n",
    "    def enable(self):\n",
    "        self.canVisit = True\n",
    "\n",
    "    def prettyPrint(self):\n",
    "        if(self.small):\n",
    "            size = 'small'\n",
    "        else:\n",
    "            size = 'large'\n",
    "        connections = []\n",
    "        for connection in self.connections:\n",
    "            connections.append(connection.name)\n",
    "        print('Cave ' + self.name + ' is ' + size + ', has been visited ' + str(self.visitCount) + ' times and has connections ' + str(connections))"
   ]
  },
  {
   "cell_type": "code",
   "execution_count": 51,
   "metadata": {},
   "outputs": [],
   "source": [
    "def setup_caves(input):\n",
    "    caves = {}\n",
    "    for line in input:\n",
    "        caveOneName = line.split('-')[0]\n",
    "        caveTwoName = line.split('-')[1]\n",
    "        if caveOneName not in caves:\n",
    "            cave1 = Cave(caveOneName, caveOneName.islower())\n",
    "            caves.update({caveOneName: cave1})\n",
    "        if caveTwoName not in caves:\n",
    "            cave2 = Cave(caveTwoName, caveTwoName.islower())\n",
    "            caves.update({caveTwoName: cave2})\n",
    "        firstCave = caves.get(caveOneName)\n",
    "        secondCave = caves.get(caveTwoName)\n",
    "        firstCave.add_connection(secondCave)\n",
    "        secondCave.add_connection(firstCave)\n",
    "    return caves"
   ]
  },
  {
   "cell_type": "code",
   "execution_count": 52,
   "metadata": {},
   "outputs": [],
   "source": [
    "def explore_cave_part_1(caves, cave, visited, paths):\n",
    "    visited.append(cave.name)\n",
    "    availableConnections = []\n",
    "    # base case\n",
    "    if cave.name == 'end':\n",
    "        paths.append(visited.copy())\n",
    "        visited = []\n",
    "        return paths\n",
    "\n",
    "    # If this is a small cave, mark it visited\n",
    "    if cave.small:\n",
    "        cave.visit()\n",
    "\n",
    "    for connection in cave.connections:\n",
    "        if connection.visited == False or connection.small == False:\n",
    "            availableConnections.append(connection)\n",
    "\n",
    "    for availableConnection in availableConnections:\n",
    "        explore_cave_part_1(caves, availableConnection, visited, paths)\n",
    "        visited.pop()\n",
    "\n",
    "\n",
    "    if cave.small:\n",
    "        cave.unvisit()\n",
    "    return paths"
   ]
  },
  {
   "cell_type": "code",
   "execution_count": 53,
   "metadata": {},
   "outputs": [],
   "source": [
    "import collections\n",
    "def explore_cave_part_2(caves, cave, visited, paths):\n",
    "    visited.append(cave.name)\n",
    "    dupe = False\n",
    "\n",
    "    dupes = [item for item, count in collections.Counter(visited).items() if count > 1]\n",
    "    for y in dupes:\n",
    "        if y.islower():\n",
    "            dupe = True\n",
    "\n",
    "\n",
    "    for x in caves:\n",
    "        currCave = caves.get(x)\n",
    "        if currCave.small and currCave.visitCount >= 2:\n",
    "            # cant go again\n",
    "            currCave.disable()\n",
    "            dupe = True\n",
    "        else:\n",
    "            if currCave.name == 'start':\n",
    "                currCave.disable()\n",
    "            else:\n",
    "                currCave.enable()\n",
    "\n",
    "    if dupe == True:\n",
    "        for x in caves:\n",
    "            currCave = caves.get(x)\n",
    "            if currCave.small and currCave.visitCount == 1:\n",
    "                # cant go again\n",
    "                currCave.disable()\n",
    "    \n",
    "    availableConnections = []\n",
    "    # base case\n",
    "    if cave.name == 'end':\n",
    "        paths.append(visited.copy())\n",
    "        visited = []\n",
    "        return paths\n",
    "    # If this is a small cave, mark it visited\n",
    "    if cave.small:\n",
    "        cave.visit()\n",
    "\n",
    "    for connection in cave.connections:\n",
    "        if connection.canVisit:\n",
    "            availableConnections.append(connection)\n",
    "\n",
    "    for availableConnection in availableConnections:\n",
    "        explore_cave_part_2(caves, availableConnection, visited, paths)\n",
    "        visited.pop()\n",
    "\n",
    "\n",
    "    if cave.small:\n",
    "        cave.unvisit()\n",
    "    return paths"
   ]
  },
  {
   "cell_type": "code",
   "execution_count": 54,
   "metadata": {},
   "outputs": [],
   "source": [
    "# Solve part 1 by XYZ\n",
    "def solve_part1(input):\n",
    "    paths = []\n",
    "    caves = setup_caves(input)\n",
    "    startCave = caves.get('start')\n",
    "    paths = explore_cave_part_1(caves, startCave, [], [])\n",
    "    return (caves, paths)"
   ]
  },
  {
   "cell_type": "code",
   "execution_count": 55,
   "metadata": {},
   "outputs": [],
   "source": [
    "# Solve part 2 by XYZ\n",
    "def solve_part2(caves):\n",
    "    paths = []\n",
    "    startCave = caves.get('start')\n",
    "    paths = explore_cave_part_2(caves, startCave, [], [])\n",
    "    return paths"
   ]
  },
  {
   "cell_type": "code",
   "execution_count": 56,
   "metadata": {},
   "outputs": [
    {
     "name": "stdout",
     "output_type": "stream",
     "text": [
      "Part 1 solution: There are 4720 paths through the caves\n",
      "Part 2 solution: There are 147848 paths through the caves\n"
     ]
    }
   ],
   "source": [
    "# Read in XYZ\n",
    "file = open('puzzleinput.txt')\n",
    "# map = [[int(x) for x in line.strip()] for line in file]\n",
    "input = [line.strip() for line in file]\n",
    "\n",
    "# Solve parts 1 and 2\n",
    "(caves, part1Paths) = solve_part1(input)\n",
    "part2Paths = solve_part2(caves)\n",
    "\n",
    "# Print solution\n",
    "print(\"Part 1 solution: There are \" + str(len(part1Paths)) + \" paths through the caves\")\n",
    "print(\"Part 2 solution: There are \" + str(len(part2Paths)) + \" paths through the caves\")"
   ]
  }
 ],
 "metadata": {
  "interpreter": {
   "hash": "63fd5069d213b44bf678585dea6b12cceca9941eaf7f819626cde1f2670de90d"
  },
  "kernelspec": {
   "display_name": "Python 3.9.1 64-bit",
   "language": "python",
   "name": "python3"
  },
  "language_info": {
   "codemirror_mode": {
    "name": "ipython",
    "version": 3
   },
   "file_extension": ".py",
   "mimetype": "text/x-python",
   "name": "python",
   "nbconvert_exporter": "python",
   "pygments_lexer": "ipython3",
   "version": "3.9.1"
  },
  "metadata": {
   "interpreter": {
    "hash": "63fd5069d213b44bf678585dea6b12cceca9941eaf7f819626cde1f2670de90d"
   }
  },
  "orig_nbformat": 2
 },
 "nbformat": 4,
 "nbformat_minor": 2
}
