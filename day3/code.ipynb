{
 "cells": [
  {
   "cell_type": "code",
   "execution_count": 54,
   "metadata": {},
   "outputs": [],
   "source": [
    "# Part 1\r\n",
    "def get_gamma_and_epsilon(diagnostics):\r\n",
    "    numberOfEntries = len(diagnostics)\r\n",
    "    numberOfBits = len(diagnostics[0])\r\n",
    "    bitCounts = [0] * numberOfBits\r\n",
    "    gammaString = ''\r\n",
    "    epsilonString = ''\r\n",
    "\r\n",
    "    for entry in diagnostics:\r\n",
    "        for index, bit in enumerate(entry):\r\n",
    "            bitCounts[index] = bitCounts[index] + int(bit)\r\n",
    "\r\n",
    "    for bitCount in bitCounts:\r\n",
    "        if bitCount > (numberOfEntries / 2):\r\n",
    "            gammaString += '1'\r\n",
    "        else:\r\n",
    "            gammaString += '0'\r\n",
    "            \r\n",
    "    for bit in gammaString:\r\n",
    "        if bit == '1':\r\n",
    "            epsilonString += '0'\r\n",
    "        else:\r\n",
    "            epsilonString += '1'\r\n",
    "\r\n",
    "    gammaValue = int(gammaString, 2)\r\n",
    "    epsilonValue = int(epsilonString, 2)\r\n",
    "    return (gammaValue, epsilonValue)"
   ]
  },
  {
   "cell_type": "code",
   "execution_count": 55,
   "metadata": {},
   "outputs": [],
   "source": [
    "def getRatingValue(ratingList, oxy):\r\n",
    "    currentBit = 0\r\n",
    "    \r\n",
    "    while len(ratingList) > 1:\r\n",
    "        currentBitCount = 0\r\n",
    "        for entry in ratingList:\r\n",
    "            currentBitCount += int(entry[currentBit])\r\n",
    "        if currentBitCount >= (len(ratingList) / 2):\r\n",
    "            ratingsFiltered = filter(lambda diag: diag[currentBit] == str(int(oxy)), ratingList)\r\n",
    "        else:\r\n",
    "            ratingsFiltered = filter(lambda diag: diag[currentBit] == str(int(not(oxy))), ratingList)\r\n",
    "        ratingList = list(ratingsFiltered)\r\n",
    "        currentBit += 1\r\n",
    "    \r\n",
    "    return ratingList[0]\r\n"
   ]
  },
  {
   "cell_type": "code",
   "execution_count": 56,
   "metadata": {},
   "outputs": [],
   "source": [
    "# Part 2\r\n",
    "def get_life_support_rating(diagnostics):\r\n",
    "    oxyString = getRatingValue(diagnostics, True)\r\n",
    "    coString = getRatingValue(diagnostics, False)\r\n",
    "\r\n",
    "    oxyValue = int(oxyString, 2)\r\n",
    "    coValue = int(coString, 2)\r\n",
    "    return (oxyValue, coValue)"
   ]
  },
  {
   "cell_type": "code",
   "execution_count": 57,
   "metadata": {},
   "outputs": [
    {
     "name": "stdout",
     "output_type": "stream",
     "text": [
      "Part 1 solution: Power consumption of the sub is 2035764\n",
      "Part 2 solution: Life support rating of the sub is 2817661\n"
     ]
    }
   ],
   "source": [
    "file = open('puzzleinput.txt')\r\n",
    "input = file.read()\r\n",
    "diagnostics = input.splitlines()\r\n",
    "\r\n",
    "(gammaValue, epsilonValue) = get_gamma_and_epsilon(diagnostics)\r\n",
    "\r\n",
    "(oxyValue, coValue) = get_life_support_rating(diagnostics)\r\n",
    "\r\n",
    "print(\"Part 1 solution: Power consumption of the sub is \" + str(gammaValue * epsilonValue))\r\n",
    "print(\"Part 2 solution: Life support rating of the sub is \" + str(oxyValue * coValue))\r\n"
   ]
  }
 ],
 "metadata": {
  "kernelspec": {
   "display_name": "Python 3.9.1 64-bit",
   "name": "python391jvsc74a57bd063fd5069d213b44bf678585dea6b12cceca9941eaf7f819626cde1f2670de90d"
  },
  "language_info": {
   "codemirror_mode": {
    "name": "ipython",
    "version": 3
   },
   "file_extension": ".py",
   "mimetype": "text/x-python",
   "name": "python",
   "nbconvert_exporter": "python",
   "pygments_lexer": "ipython3",
   "version": "3.9.1"
  },
  "metadata": {
   "interpreter": {
    "hash": "63fd5069d213b44bf678585dea6b12cceca9941eaf7f819626cde1f2670de90d"
   }
  },
  "orig_nbformat": 2
 },
 "nbformat": 4,
 "nbformat_minor": 2
}