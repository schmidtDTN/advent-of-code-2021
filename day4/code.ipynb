{
 "cells": [
  {
   "cell_type": "code",
   "execution_count": 42,
   "metadata": {},
   "outputs": [],
   "source": [
    "def process_winning_board_score(board, drawnNumbers, finalNumberIdx):\r\n",
    "    # Get a flat list of the winning board's numbers\r\n",
    "    boardNumbers = np.array(board).flatten().astype(np.int32)\r\n",
    "    # Draw numbers and replace them with 0 if they appear in the list (so they don't end up in the sum)\r\n",
    "    for draw in drawnNumbers[:finalNumberIdx + 1]:\r\n",
    "        boardNumbers = np.where(boardNumbers == int(draw), 0, boardNumbers)\r\n",
    "    # Calculate the score (sum of unmarked numbers * number drawn for the win)\r\n",
    "    score = np.sum(boardNumbers) * int(drawnNumbers[finalNumberIdx])\r\n",
    "    return score"
   ]
  },
  {
   "cell_type": "code",
   "execution_count": 43,
   "metadata": {},
   "outputs": [],
   "source": [
    "def get_board_win_times_directional(drawnNumbers, boards, board_wins_at):\r\n",
    "     # Run through each board by row\r\n",
    "    for boardIdx, board in enumerate(boards):\r\n",
    "        # Iterate through the rows on a given board\r\n",
    "        for rowOrCol in board:\r\n",
    "            foundValues = []\r\n",
    "            # Mark when a number was drawn that was found on the board\r\n",
    "            for value in rowOrCol:\r\n",
    "                found = drawnNumbers.index(value)\r\n",
    "                foundValues.append(found)\r\n",
    "            # Track the earliest time of completion for this board\r\n",
    "            if max(foundValues) < board_wins_at[boardIdx]:\r\n",
    "                board_wins_at[boardIdx] = max(foundValues)\r\n",
    "\r\n",
    "    return board_wins_at"
   ]
  },
  {
   "cell_type": "code",
   "execution_count": 44,
   "metadata": {},
   "outputs": [],
   "source": [
    "def get_board_win_times(drawnNumbers, boards, boardsT):\r\n",
    "    board_wins_at = [5000] * len(boards)\r\n",
    "\r\n",
    "    board_wins_at_rows = get_board_win_times_directional(drawnNumbers, boards, board_wins_at)\r\n",
    "    board_wins_at_rows_and_cols = get_board_win_times_directional(drawnNumbers, boardsT, board_wins_at_rows)\r\n",
    "\r\n",
    "    return board_wins_at_rows_and_cols"
   ]
  },
  {
   "cell_type": "code",
   "execution_count": 45,
   "metadata": {},
   "outputs": [],
   "source": [
    "# Part 1\r\n",
    "def solve_earliest_bingo(drawnNumbers, boards, boardsT):\r\n",
    "    board_wins_at = get_board_win_times(drawnNumbers, boards, boardsT)\r\n",
    "    \r\n",
    "    # Find the board that gets completed first\r\n",
    "    earliest_win_board_draw_idx = min(board_wins_at)\r\n",
    "    earliest_win_board = boards[board_wins_at.index(earliest_win_board_draw_idx)]\r\n",
    "\r\n",
    "    # Calculate the score of the winning board\r\n",
    "    return process_winning_board_score(earliest_win_board, drawnNumbers, earliest_win_board_draw_idx)           \r\n",
    "            "
   ]
  },
  {
   "cell_type": "code",
   "execution_count": 46,
   "metadata": {},
   "outputs": [],
   "source": [
    "# Part 2\r\n",
    "def solve_longest_bingo(drawnNumbers, boards, boardsT):\r\n",
    "    board_wins_at = get_board_win_times(drawnNumbers, boards, boardsT)\r\n",
    "\r\n",
    "    # Find the board that gets completed last\r\n",
    "    last_win_board_draw_idx = max(board_wins_at)\r\n",
    "    last_win_board = boards[board_wins_at.index(last_win_board_draw_idx)]\r\n",
    "\r\n",
    "    # Calculate that board's score\r\n",
    "    return process_winning_board_score(last_win_board, drawnNumbers, last_win_board_draw_idx)           "
   ]
  },
  {
   "cell_type": "code",
   "execution_count": 47,
   "metadata": {},
   "outputs": [
    {
     "name": "stdout",
     "output_type": "stream",
     "text": [
      "Part 1 solution: Earliest bingo board has a score of 34506\n",
      "Part 2 solution: Last bingo board has a score of 7686\n"
     ]
    }
   ],
   "source": [
    "import numpy as np\r\n",
    "file = open('puzzleinput.txt')\r\n",
    "# Read in the numbers drawn\r\n",
    "drawnNumbers = file.readline().strip().split(',')\r\n",
    "\r\n",
    "rows = []\r\n",
    "\r\n",
    "# Read in each row of the file\r\n",
    "for line in file:\r\n",
    "    if(line.strip()):\r\n",
    "        currLine = line.strip().replace('  ', ' ').split(' ')\r\n",
    "        rows.append(currLine)\r\n",
    "\r\n",
    "# Construct the boards from the rows read in\r\n",
    "boards = []\r\n",
    "currentBoard = []\r\n",
    "for idx, row in enumerate(rows):\r\n",
    "    if idx % 5 == 0 and idx > 0:\r\n",
    "        boards.append(currentBoard)\r\n",
    "        currentBoard = []\r\n",
    "    currentBoard.append(row)\r\n",
    "\r\n",
    "boards.append(currentBoard)\r\n",
    "\r\n",
    "# Transpose each board (to have easy access to the columns)\r\n",
    "boardsT = []\r\n",
    "for board in boards:\r\n",
    "    boardT = np.array(board).T\r\n",
    "    boardsT.append(boardT.tolist())\r\n",
    "\r\n",
    "# Solve\r\n",
    "earliest_bingo_score = solve_earliest_bingo(drawnNumbers, boards, boardsT)\r\n",
    "last_bingo_score = solve_longest_bingo(drawnNumbers, boards, boardsT)\r\n",
    "print(\"Part 1 solution: Earliest bingo board has a score of \" + str(earliest_bingo_score))\r\n",
    "print(\"Part 2 solution: Last bingo board has a score of \" + str(last_bingo_score))"
   ]
  }
 ],
 "metadata": {
  "kernelspec": {
   "display_name": "Python 3.9.1 64-bit",
   "name": "python391jvsc74a57bd063fd5069d213b44bf678585dea6b12cceca9941eaf7f819626cde1f2670de90d"
  },
  "language_info": {
   "codemirror_mode": {
    "name": "ipython",
    "version": 3
   },
   "file_extension": ".py",
   "mimetype": "text/x-python",
   "name": "python",
   "nbconvert_exporter": "python",
   "pygments_lexer": "ipython3",
   "version": "3.9.1"
  },
  "metadata": {
   "interpreter": {
    "hash": "63fd5069d213b44bf678585dea6b12cceca9941eaf7f819626cde1f2670de90d"
   }
  },
  "orig_nbformat": 2
 },
 "nbformat": 4,
 "nbformat_minor": 2
}