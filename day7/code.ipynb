{
 "cells": [
  {
   "cell_type": "code",
   "execution_count": 5,
   "metadata": {},
   "outputs": [],
   "source": [
    "# Make a dict of all the horizontal position changes and which uses the least fuel\r\n",
    "def solve_part1(locations, minLocation, maxLocation):\r\n",
    "    countDict = {}\r\n",
    "    # For the smallest X location in the input to the largest, iterate\r\n",
    "    for targetLocation in range(minLocation, maxLocation + 1):\r\n",
    "        fuelCost = 0\r\n",
    "        # For each location in the input list, determine how much fuel it takes to reach the current space\r\n",
    "        for inputLocation in locations:\r\n",
    "            fuelCost += abs(inputLocation - targetLocation)\r\n",
    "        # Update a dict to track how much fuel is used to align on each space\r\n",
    "        countDict.update({targetLocation: fuelCost})\r\n",
    "    return countDict\r\n",
    "    "
   ]
  },
  {
   "cell_type": "code",
   "execution_count": 6,
   "metadata": {},
   "outputs": [],
   "source": [
    "from functools import lru_cache\r\n",
    "\r\n",
    "# Use memoization for this function - speeds it right up\r\n",
    "# Could probably do something like use a cleverer mathematical sum here but s p e e d \r\n",
    "@lru_cache(maxsize=None)\r\n",
    "# Get the fuel cost of going a certain distance if each step costs 1 more fuel than the last\r\n",
    "def get_cost(distance):\r\n",
    "    steps = [int(x) for x in range(0, distance + 1)]\r\n",
    "    return sum(steps)\r\n",
    "            "
   ]
  },
  {
   "cell_type": "code",
   "execution_count": 7,
   "metadata": {},
   "outputs": [],
   "source": [
    "# Essentially the same as part 1, except we need to calculate a summation for the fuel count\r\n",
    "def solve_part2(locations, minLocation, maxLocation):\r\n",
    "    countDict = {}\r\n",
    "    # For the smallest X location in the input to the largest, iterate\r\n",
    "    for targetLocation in range(minLocation, maxLocation + 1):\r\n",
    "        fuelCost = 0\r\n",
    "        # For each location in the input list, determine how much fuel it takes to reach the current space\r\n",
    "        for currentLocation in locations:\r\n",
    "            # Get the distance between the current input location and the target location\r\n",
    "            distance = abs(currentLocation - targetLocation)\r\n",
    "            # Get the cost of fuel to go that distance\r\n",
    "            fuelCost += get_cost(distance)\r\n",
    "        # Update a dict to track how much fuel is used to align on each space\r\n",
    "        countDict.update({targetLocation: fuelCost})\r\n",
    "    return countDict\r\n",
    "    "
   ]
  },
  {
   "cell_type": "code",
   "execution_count": 8,
   "metadata": {},
   "outputs": [
    {
     "name": "stdout",
     "output_type": "stream",
     "text": [
      "Part 1 solution: The minimum fuel cost is 347449\n",
      "Part 2 solution: The minimum fuel cost is 98039527\n"
     ]
    }
   ],
   "source": [
    "# Read in crabship locations\r\n",
    "file = open('puzzleinput.txt')\r\n",
    "input = file.read()\r\n",
    "locations = [int(x) for x in input.strip().split(',')]\r\n",
    "\r\n",
    "# Get the solutions to each part\r\n",
    "part1Solution = solve_part1(locations, min(locations), max(locations))\r\n",
    "part2Solution = solve_part2(locations, min(locations), max(locations))\r\n",
    "\r\n",
    "# Print solution\r\n",
    "print(\"Part 1 solution: The minimum fuel cost is \" + str(min(part1Solution.values())))\r\n",
    "print(\"Part 2 solution: The minimum fuel cost is \" + str(min(part2Solution.values())))"
   ]
  }
 ],
 "metadata": {
  "kernelspec": {
   "display_name": "Python 3.9.1 64-bit",
   "name": "python391jvsc74a57bd063fd5069d213b44bf678585dea6b12cceca9941eaf7f819626cde1f2670de90d"
  },
  "language_info": {
   "codemirror_mode": {
    "name": "ipython",
    "version": 3
   },
   "file_extension": ".py",
   "mimetype": "text/x-python",
   "name": "python",
   "nbconvert_exporter": "python",
   "pygments_lexer": "ipython3",
   "version": "3.9.1"
  },
  "metadata": {
   "interpreter": {
    "hash": "63fd5069d213b44bf678585dea6b12cceca9941eaf7f819626cde1f2670de90d"
   }
  },
  "orig_nbformat": 2
 },
 "nbformat": 4,
 "nbformat_minor": 2
}