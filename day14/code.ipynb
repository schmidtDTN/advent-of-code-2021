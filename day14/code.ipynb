{
 "cells": [
  {
   "cell_type": "code",
   "execution_count": 1,
   "metadata": {},
   "outputs": [],
   "source": [
    "# Solve part 1 by XYZ\n",
    "def solve_part1(template, mapping):\n",
    "    for step in range(0, 10):\n",
    "        newTemplate = ''\n",
    "        for idx in range(0, len(template) - 1):\n",
    "            currentPair = template[idx] + template[idx + 1]\n",
    "            if currentPair in mapping.keys():\n",
    "                insertion = mapping.get(currentPair)\n",
    "                newTemplate += template[idx] + insertion\n",
    "            else:\n",
    "                newTemplate += template[idx]\n",
    "        newTemplate += template[len(template) - 1]\n",
    "        template = newTemplate\n",
    "        #print(newTemplate)\n",
    "    print(len(newTemplate))\n",
    "    maxOccurence = max(template, key=template.count)\n",
    "    minOccurence = min(template, key=template.count)\n",
    "    print(template.count(maxOccurence) - template.count(minOccurence))\n"
   ]
  },
  {
   "cell_type": "code",
   "execution_count": 2,
   "metadata": {},
   "outputs": [],
   "source": [
    "# Solve part 2 by XYZ\n",
    "def solve_part2(coordinates, puzzleWidth, puzzleHeight, instructions):\n",
    "    print('test')"
   ]
  },
  {
   "cell_type": "code",
   "execution_count": 3,
   "metadata": {},
   "outputs": [
    {
     "name": "stdout",
     "output_type": "stream",
     "text": [
      "{'HO': 'B', 'KB': 'O', 'PV': 'B', 'BV': 'C', 'HK': 'N', 'FK': 'H', 'NV': 'C', 'PF': 'K', 'FV': 'B', 'NH': 'P', 'CO': 'N', 'HV': 'P', 'OH': 'H', 'BC': 'H', 'SP': 'C', 'OK': 'F', 'KH': 'N', 'HB': 'V', 'FP': 'N', 'KP': 'O', 'FB': 'O', 'FH': 'F', 'CN': 'K', 'BP': 'P', 'SF': 'O', 'CK': 'K', 'KN': 'O', 'VK': 'C', 'HP': 'N', 'KK': 'V', 'KO': 'C', 'OO': 'P', 'BH': 'B', 'OC': 'O', 'HC': 'V', 'HS': 'O', 'SH': 'V', 'SO': 'C', 'FS': 'N', 'CH': 'O', 'PC': 'O', 'FC': 'S', 'VO': 'H', 'NS': 'H', 'PH': 'C', 'SS': 'F', 'BN': 'B', 'BF': 'F', 'NC': 'F', 'CS': 'F', 'NN': 'O', 'FF': 'P', 'OF': 'H', 'NF': 'O', 'SC': 'F', 'KC': 'F', 'CP': 'H', 'CF': 'K', 'BS': 'S', 'HN': 'K', 'CB': 'P', 'PB': 'V', 'VP': 'C', 'OS': 'C', 'FN': 'B', 'NB': 'V', 'BB': 'C', 'BK': 'V', 'VF': 'V', 'VC': 'O', 'NO': 'K', 'KF': 'P', 'FO': 'C', 'OB': 'K', 'ON': 'S', 'BO': 'V', 'KV': 'H', 'CC': 'O', 'HF': 'N', 'VS': 'S', 'PN': 'P', 'SK': 'F', 'PO': 'V', 'HH': 'F', 'VV': 'N', 'VH': 'N', 'SV': 'S', 'CV': 'B', 'KS': 'K', 'PS': 'V', 'OV': 'S', 'SB': 'V', 'NP': 'K', 'SN': 'C', 'NK': 'O', 'PK': 'F', 'VN': 'P', 'PP': 'K', 'VB': 'C', 'OP': 'P'}\n",
      "19457\n",
      "2447\n"
     ]
    }
   ],
   "source": [
    "# Read in XYZ\n",
    "file = open('puzzleinput.txt')\n",
    "template = file.readline().strip()\n",
    "_ = file.readline()\n",
    "input = [line.strip() for line in file]\n",
    "mapping = {}\n",
    "for entry in input:\n",
    "    adjacency = entry.split(' -> ')[0]\n",
    "    insertion = entry.split(' -> ')[1]\n",
    "    mapping.update({adjacency: insertion})\n",
    "print(mapping)\n",
    "\n",
    "# Solve parts 1 and 2\n",
    "part1Solution = solve_part1(template, mapping)\n",
    "#part2Solution = solve_part2(coordinates, puzzleWidth, puzzleHeight, instructions)\n",
    "\n",
    "# Print solution\n",
    "#print(\"Part 1 solution: There are \" + str(part1Solution) + \" dots visible after one fold\")\n",
    "#print(\"Part 2 solution: The code is displayed below: \")"
   ]
  }
 ],
 "metadata": {
  "interpreter": {
   "hash": "63fd5069d213b44bf678585dea6b12cceca9941eaf7f819626cde1f2670de90d"
  },
  "kernelspec": {
   "display_name": "Python 3.9.1 64-bit",
   "language": "python",
   "name": "python3"
  },
  "language_info": {
   "codemirror_mode": {
    "name": "ipython",
    "version": 3
   },
   "file_extension": ".py",
   "mimetype": "text/x-python",
   "name": "python",
   "nbconvert_exporter": "python",
   "pygments_lexer": "ipython3",
   "version": "3.9.1"
  },
  "metadata": {
   "interpreter": {
    "hash": "63fd5069d213b44bf678585dea6b12cceca9941eaf7f819626cde1f2670de90d"
   }
  },
  "orig_nbformat": 2
 },
 "nbformat": 4,
 "nbformat_minor": 2
}
